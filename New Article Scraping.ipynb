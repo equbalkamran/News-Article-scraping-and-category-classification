{
 "cells": [
  {
   "cell_type": "markdown",
   "metadata": {
    "id": "_uZhDGf2wdmC"
   },
   "source": [
    "# News Article web scraping and then category classification"
   ]
  },
  {
   "cell_type": "markdown",
   "metadata": {
    "id": "CQInUZIBgeYI"
   },
   "source": [
    "In this project, we are focusing on the data provided at : http://mlg.ucd.ie/modules/COMP41680/assignment2/index.html \n",
    "Our intention here is to scrape the data and then store it in appropriate format and then carry out given instructions. We will use Beautiful Soup to do it and as always we first import required modules and then we will do a html request."
   ]
  },
  {
   "cell_type": "markdown",
   "metadata": {},
   "source": [
    "### Important Note: Some of the sections in data scraping section have been commented as they are raw and really large. Please uncomment those "
   ]
  },
  {
   "cell_type": "code",
   "execution_count": 1,
   "metadata": {
    "id": "tdCQoU-4geYJ"
   },
   "outputs": [],
   "source": [
    "#importing all the relevant modules required throughout the notebook. Some other packages have also been imported wherever necessary along the code\n",
    "import requests\n",
    "import time\n",
    "import csv\n",
    "import re\n",
    "from bs4 import BeautifulSoup\n",
    "import pandas as pd\n",
    "import io\n",
    "import calendar\n",
    "from collections import Counter\n",
    "from sklearn.feature_extraction.text import CountVectorizer, TfidfVectorizer\n",
    "from sklearn.feature_extraction import text\n",
    "from sklearn.metrics.pairwise import cosine_similarity\n",
    "import nltk\n",
    "from nltk.corpus import stopwords\n",
    "import numpy as np\n",
    "from tensorflow.keras.preprocessing.text import Tokenizer\n",
    "from tensorflow.keras.preprocessing.sequence import pad_sequences\n",
    "from tensorflow import keras\n",
    "import tensorflow as tf\n",
    "from sklearn.metrics import plot_confusion_matrix\n",
    "import seaborn as sns\n",
    "from sklearn.metrics import confusion_matrix, accuracy_score\n",
    "from sklearn.linear_model import LogisticRegression\n",
    "from sklearn.pipeline import Pipeline\n",
    "from sklearn.feature_extraction.text import TfidfTransformer"
   ]
  },
  {
   "cell_type": "markdown",
   "metadata": {
    "id": "kQ7P2t6ageYK"
   },
   "source": [
    "# Task 1: Scraping the data and storing it in appropriate format"
   ]
  },
  {
   "cell_type": "markdown",
   "metadata": {
    "id": "GUXYbcSVgeYK"
   },
   "source": [
    "Importing has been successfully done. Now we start with scraping the data available. At first we will import just one webpage and then examine all the html tags in there so that we can write appropriate functions to scrape them in one go."
   ]
  },
  {
   "cell_type": "code",
   "execution_count": 2,
   "metadata": {
    "colab": {
     "base_uri": "https://localhost:8080/"
    },
    "id": "b894kndSgeYK",
    "outputId": "7722591f-6d53-4187-b560-e2c34dcb28c8"
   },
   "outputs": [
    {
     "name": "stdout",
     "output_type": "stream",
     "text": [
      "<!DOCTYPE html>\n",
      "<html lang=\"en\">\n",
      " <head>\n",
      "  <meta content=\"noindex\" name=\"robots\"/>\n",
      "  <meta content=\"Content on this site is posted for teaching purposes only. Original data is from theguardian.com\" name=\"description\"/>\n",
      "  <meta charset=\"utf-8\"/>\n",
      "  <meta content=\"IE=edge\" http-equiv=\"X-UA-Compatible\"/>\n",
      "  <meta content=\"width=device-width, initial-scale=1\" name=\"viewport\"/>\n",
      "  <title>\n",
      "   News Archive January 2020\n",
      "  </title>\n",
      "  <link href=\"images/favicon.ico\" rel=\"shortcut icon\"/>\n",
      "  <!-- Bootstrap core CSS -->\n",
      "  <link href=\"assets/css/bootstrap.css\" rel=\"stylesheet\"/>\n",
      "  <!-- Custom styles for this template -->\n",
      "  <link href=\"assets/css/style.css\" rel=\"stylesheet\"/>\n",
      "  <link href=\"assets/css/font-awesome.min.css\" rel=\"stylesheet\"/>\n",
      "  <script src=\"assets/js/modernizr.js\">\n",
      "  </script>\n",
      " </head>\n",
      " <body>\n",
      "  <div class=\"container mtb\">\n",
      "   <div class=\"jumbotron\">\n",
      "    <h1>\n",
      "     <a href=\"index.html\">\n",
      "      News Archive\n",
      "     </a>\n",
      "    </h1>\n",
      "    <p>\n",
      "     Article collection — January 2020\n",
      "    </p>\n",
      "   </div>\n",
      "   <div class=\"row\">\n",
      "    <div class=\"col-md-10\" id=\"content\">\n",
      "     <div id=\"all\">\n",
      "      <h4 class=\"results\">\n",
      "       1,522 results — Page 1 of 31\n",
      "      </h4>\n",
      "      <div class=\"article\">\n",
      "       <h5>\n",
      "        1.\n",
      "        <a href=\"https://www.theguardian.com/uk-news/2020/jan/01/lets-resolve-to-reconnect-says-welby-in-new-year-message\" target=\"_blank\">\n",
      "         Let's resolve to reconnect, says Welby in new year message\n",
      "        </a>\n",
      "       </h5>\n",
      "       <p class=\"metadata\">\n",
      "        Wed 1 Jan 2020 00:01 GMT\n",
      "       </p>\n",
      "       <p class=\"metadata\">\n",
      "        Category:\n",
      "        <span>\n",
      "         UK-News\n",
      "        </span>\n",
      "       </p>\n",
      "       <p class=\"snippet\">\n",
      "        The archbishop of Canterbury will urge people to make personal connections with others in 2020 to create a new unity in a divided society. In his new …\n",
      "       </p>\n",
      "      </div>\n",
      "      <div class=\"article\">\n",
      "       <h5>\n",
      "        2.\n",
      "        <a href=\"https://www.theguardian.com/books/2020/jan/01/be-honest-youre-not-going-to-read-all-those-books-on-your-holiday-are-you\" target=\"_blank\">\n",
      "         Be honest. You're not going to read all those books on your holiday, are you?\n",
      "        </a>\n",
      "       </h5>\n",
      "       <p class=\"metadata\">\n",
      "        Wed 1 Jan 2020 00:21 GMT\n",
      "       </p>\n",
      "       <p class=\"metadata\">\n",
      "        Category:\n",
      "        <i>\n",
      "         Books\n",
      "        </i>\n",
      "       </p>\n",
      "       <p class=\"snippet\">\n",
      "        Every year, about this time, my Instagram feed fills up with pictures of books. Theyâre piled somewhere between five and ten inches high, sometimes st …\n",
      "       </p>\n",
      "      </div>\n",
      "      <div class=\"article\">\n",
      "       <h5>\n",
      "        3.\n",
      "        <a href=\"https://www.theguardian.com/music/2019/dec/31/mariah-carey-twitter-account-hacked-new-years-eve\" target=\"_blank\">\n",
      "         Mariah Carey's Twitter account hacked on New Year's Eve\n",
      "        </a>\n",
      "       </h5>\n",
      "       <p class=\"metadata\">\n",
      "        Wed 1 Jan 2020 00:34 GMT\n",
      "       </p>\n",
      "       <p class=\"metadata\">\n",
      "        Category: Music\n",
      "       </p>\n",
      "       <p class=\"snippet\">\n",
      "        Mariah Careyâs Twitter account appeared to have been hacked late Tuesday afternoon, sharing numerous racist slurs and comments with the singerâs 21.4 …\n",
      "       </p>\n",
      "      </div>\n",
      "      <div class=\"article\">\n",
      "       <h5>\n",
      "        4.\n",
      "        <a href=\"https://www.theguardian.com/lifeandstyle/2020/jan/01/how-to-have-more-fun-in-2020\" target=\"_blank\">\n",
      "         The joy audit: how to have more fun in 2020\n",
      "        </a>\n",
      "       </h5>\n",
      "       <p class=\"metadata\">\n",
      "        Wed 1 Jan 2020 06:00 GMT\n",
      "       </p>\n",
      "       <p class=\"metadata\">\n",
      "        Category: Life-and-Style\n",
      "       </p>\n",
      "       <p class=\"snippet\">\n",
      "        The last time I felt joy was at an event that would be many peopleâs vision of hell: a drunken Taylor Swift club-night singalong in the early hours of …\n",
      "       </p>\n",
      "      </div>\n",
      "      <div class=\"article\">\n",
      "       <h5>\n",
      "        5.\n",
      "        <a href=\"https://www.theguardian.com/books/2020/jan/01/providence-lost-paul-lay-review-oliver-cromwell\" target=\"_blank\">\n",
      "         Providence Lost by Paul Lay review â the rise and fall of Oliver Cromwellâs Protectorate\n",
      "        </a>\n",
      "       </h5>\n",
      "       <p class=\"metadata\">\n",
      "        Wed 1 Jan 2020 07:30 GMT\n",
      "       </p>\n",
      "       <p class=\"metadata\">\n",
      "        Category:\n",
      "        <i>\n",
      "         Books\n",
      "        </i>\n",
      "       </p>\n",
      "       <p class=\"snippet\">\n",
      "        The only public execution of a British head of state occurred 371 years ago outside the Banqueting House in Whitehall on 30 January 1649. It was a rad …\n",
      "       </p>\n",
      "      </div>\n",
      "      <div class=\"article\">\n",
      "       <h5>\n",
      "        6.\n",
      "        <a href=\"https://www.theguardian.com/business/2020/jan/01/zero-carbon-energy-outstrips-fossil-fuels-in-britain-across-2019\" target=\"_blank\">\n",
      "         Zero-carbon electricity outstrips fossil fuels in Britain across 2019\n",
      "        </a>\n",
      "       </h5>\n",
      "       <p class=\"metadata\">\n",
      "        Wed 1 Jan 2020 08:01 GMT\n",
      "       </p>\n",
      "       <p class=\"metadata\">\n",
      "        Category: Business\n",
      "       </p>\n",
      "       <p class=\"snippet\">\n",
      "        <span>\n",
      "         Summary:\n",
      "        </span>\n",
      "        Zero-carbon energy became Britainâs largest electricity source in 2019, delivering nearly half the countryâs electrical power and for the first time o …\n",
      "       </p>\n",
      "      </div>\n",
      "      <div class=\"article\">\n",
      "       <h5>\n",
      "        7.\n",
      "        <a href=\"https://www.theguardian.com/us-news/2020/jan/01/us-elections-2020-democratic-candidates\" target=\"_blank\">\n",
      "         The final sprint: will any of the Democratic candidates excite voters?\n",
      "        </a>\n",
      "       </h5>\n",
      "       <p class=\"metadata\">\n",
      "        Wed 1 Jan 2020 08:30 GMT\n",
      "       </p>\n",
      "       <p class=\"metadata\">\n",
      "        Category: US-News\n",
      "       </p>\n",
      "       <p class=\"snippet\">\n",
      "        Democrats overwhelmingly agree that their top priority in 2020 is to remove Donald Trump from office. But which of the many Democrats running for pres …\n",
      "       </p>\n",
      "      </div>\n",
      "      <div class=\"article\">\n",
      "       <h5>\n",
      "        8.\n",
      "        <a href=\"https://www.theguardian.com/film/2020/jan/01/film-2020-movie-highlights-preview\" target=\"_blank\">\n",
      "         War epics, airmen and young Sopranos: essential films for 2020\n",
      "        </a>\n",
      "       </h5>\n",
      "       <p class=\"metadata\">\n",
      "        Wed 1 Jan 2020 09:00 GMT\n",
      "       </p>\n",
      "       <p class=\"metadata\">\n",
      "        Category:\n",
      "        <i>\n",
      "         Film\n",
      "        </i>\n",
      "       </p>\n",
      "       <p class=\"snippet\">\n",
      "        1917 An epic of Lean-ian proportions is delivered in this spectacular from director and co-writer Sam Mendes, who has developed a real-life story of h …\n",
      "       </p>\n",
      "      </div>\n",
      "      <div class=\"article\">\n",
      "       <h5>\n",
      "        9.\n",
      "        <a href=\"https://www.theguardian.com/lifeandstyle/2020/jan/01/beginners-guide-to-saving\" target=\"_blank\">\n",
      "         Stashing your cash: the beginner's guide to saving\n",
      "        </a>\n",
      "       </h5>\n",
      "       <p class=\"metadata\">\n",
      "        Wed 1 Jan 2020 10:00 GMT\n",
      "       </p>\n",
      "       <p class=\"metadata\">\n",
      "        Category:\n",
      "        <i>\n",
      "         Life-and-Style\n",
      "        </i>\n",
      "       </p>\n",
      "       <p class=\"snippet\">\n",
      "        Much like going for a run or eating your greens, saving your cash offers long-term benefits, but is not always appealing. And, letâs face it, there ar …\n",
      "       </p>\n",
      "      </div>\n",
      "      <div class=\"article\">\n",
      "       <h5>\n",
      "        10.\n",
      "        <a href=\"https://www.theguardian.com/books/2020/jan/01/matt-haig-gina-miller-cressida-cowell-authors-reading-2020\" target=\"_blank\">\n",
      "         'I'm on the hunt for humour and hope': what will authors be reading in 2020?\n",
      "        </a>\n",
      "       </h5>\n",
      "       <p class=\"metadata\">\n",
      "        Wed 1 Jan 2020 10:00 GMT\n",
      "       </p>\n",
      "       <p class=\"metadata\">\n",
      "        Category: Books\n",
      "       </p>\n",
      "       <p class=\"snippet\">\n",
      "        Matt Haig I have been very dark and gloomy with my reading habits this year, perhaps in tune with the social mood. Like a pig sniffing for truffles, I …\n",
      "       </p>\n",
      "      </div>\n",
      "      <div class=\"article\">\n",
      "       <h5>\n",
      "        11.\n",
      "        <a href=\"https://www.theguardian.com/sport/2020/jan/01/twenty-athletes-set-to-light-up-tokyo-2020-olympics\" target=\"_blank\">\n",
      "         Twenty athletes set to light up the Tokyo 2020 Olympics\n",
      "        </a>\n",
      "       </h5>\n",
      "       <p class=\"metadata\">\n",
      "        Wed 1 Jan 2020 10:00 GMT\n",
      "       </p>\n",
      "       <p class=\"metadata\">\n",
      "        Category:\n",
      "        <span>\n",
      "         Sport\n",
      "        </span>\n",
      "       </p>\n",
      "       <p class=\"snippet\">\n",
      "        Dina Asher-Smith Great Britain Athletics, 100m, 200m, 4x100m Seb Coe, who knows a thing or two about winning Olympic titles, believes Asher-Smith will …\n",
      "       </p>\n",
      "      </div>\n",
      "      <div class=\"article\">\n",
      "       <h5>\n",
      "        12.\n",
      "        <a href=\"https://www.theguardian.com/film/2020/jan/01/the-most-exciting-movies-of-2020-horror\" target=\"_blank\">\n",
      "         The most exciting movies of 2020 â horror\n",
      "        </a>\n",
      "       </h5>\n",
      "       <p class=\"metadata\">\n",
      "        Wed 1 Jan 2020 11:29 GMT\n",
      "       </p>\n",
      "       <p class=\"metadata\">\n",
      "        Category:\n",
      "        <i>\n",
      "         Film\n",
      "        </i>\n",
      "       </p>\n",
      "       <p class=\"snippet\">\n",
      "        The Grudge A belated English language reboot of Japanese classic Ju-On: The Grudge (2002), this stars Andrea Riseborough and DemiÃ¡n Bichir as detectiv …\n",
      "       </p>\n",
      "      </div>\n",
      "      <div class=\"article\">\n",
      "       <h5>\n",
      "        13.\n",
      "        <a href=\"https://www.theguardian.com/books/2020/jan/01/diary-of-a-murder-by-kim-young-ha-review\" target=\"_blank\">\n",
      "         Diary of a Murderer by Kim Young-ha review â dark stories from South Korea\n",
      "        </a>\n",
      "       </h5>\n",
      "       <p class=\"metadata\">\n",
      "        Wed 1 Jan 2020 12:00 GMT\n",
      "       </p>\n",
      "       <p class=\"metadata\">\n",
      "        Category: Books\n",
      "       </p>\n",
      "       <p class=\"snippet\">\n",
      "        Given that loss of memory has become a familiar device in fiction, and the psychopath such a popular character archetype, we shouldnât be too surprise …\n",
      "       </p>\n",
      "      </div>\n",
      "      <div class=\"article\">\n",
      "       <h5>\n",
      "        14.\n",
      "        <a href=\"https://www.theguardian.com/business/2020/jan/01/us-election-brexit-and-china-to-sway-the-markets-in-2020\" target=\"_blank\">\n",
      "         US election, Brexit and China to sway the markets in 2020\n",
      "        </a>\n",
      "       </h5>\n",
      "       <p class=\"metadata\">\n",
      "        Wed 1 Jan 2020 12:16 GMT\n",
      "       </p>\n",
      "       <p class=\"metadata\">\n",
      "        Category: Business\n",
      "       </p>\n",
      "       <p class=\"snippet\">\n",
      "        After profiting from strong markets in 2019, investors are expecting 2020 to bring further rising asset prices and lively merger activity. But Brexit, …\n",
      "       </p>\n",
      "      </div>\n",
      "      <div class=\"article\">\n",
      "       <h5>\n",
      "        15.\n",
      "        <a href=\"https://www.theguardian.com/books/2020/jan/01/ts-eliot-intimate-letters-to-confidante-emily-hale-unveiled-after-60-years\" target=\"_blank\">\n",
      "         TS Eliotâs intimate letters to confidante unveiled after 60 years\n",
      "        </a>\n",
      "       </h5>\n",
      "       <p class=\"metadata\">\n",
      "        Wed 1 Jan 2020 15:10 GMT\n",
      "       </p>\n",
      "       <p class=\"metadata\">\n",
      "        Category:\n",
      "        <span>\n",
      "         Books\n",
      "        </span>\n",
      "       </p>\n",
      "       <p class=\"snippet\">\n",
      "        A collection of more than 1,000 letters from the Nobel laureate TS Eliot to his confidante and muse Emily Hale is unveiled this week, after having bee …\n",
      "       </p>\n",
      "      </div>\n",
      "      <div class=\"article\">\n",
      "       <h5>\n",
      "        16.\n",
      "        <a href=\"https://www.theguardian.com/politics/2020/jan/01/clive-lewis-calls-for-unity-among-labour-leadership-hopefuls\" target=\"_blank\">\n",
      "         Clive Lewis calls for unity among Labour leadership hopefuls\n",
      "        </a>\n",
      "       </h5>\n",
      "       <p class=\"metadata\">\n",
      "        Wed 1 Jan 2020 18:05 GMT\n",
      "       </p>\n",
      "       <p class=\"metadata\">\n",
      "        Category: Politics\n",
      "       </p>\n",
      "       <p class=\"snippet\">\n",
      "        <span>\n",
      "         Summary:\n",
      "        </span>\n",
      "        The Labour leadership hopeful Clive Lewis has called for unity among would-be candidates to succeed Jeremy Corbyn as they confront the âcliff faceâ of …\n",
      "       </p>\n",
      "      </div>\n",
      "      <div class=\"article\">\n",
      "       <h5>\n",
      "        17.\n",
      "        <a href=\"https://www.theguardian.com/uk-news/2020/jan/01/visa-applications-home-office-refuses-to-reveal-high-risk-countries\" target=\"_blank\">\n",
      "         Visa applications: Home Office refuses to reveal 'high risk' countries\n",
      "        </a>\n",
      "       </h5>\n",
      "       <p class=\"metadata\">\n",
      "        Wed 1 Jan 2020 18:07 GMT\n",
      "       </p>\n",
      "       <p class=\"metadata\">\n",
      "        Category: UK-News\n",
      "       </p>\n",
      "       <p class=\"snippet\">\n",
      "        <span>\n",
      "         Summary:\n",
      "        </span>\n",
      "        Campaign groups have criticised the Home Office after it refused to release details of which countries are deemed a âriskâ in an algorithm that filter …\n",
      "       </p>\n",
      "      </div>\n",
      "      <div class=\"article\">\n",
      "       <h5>\n",
      "        18.\n",
      "        <a href=\"https://www.theguardian.com/uk-news/2020/jan/01/three-die-in-new-years-eve-collision-in-stanwell-surrey\" target=\"_blank\">\n",
      "         Victims of NYE Surrey road crash were BA cabin crew\n",
      "        </a>\n",
      "       </h5>\n",
      "       <p class=\"metadata\">\n",
      "        Wed 1 Jan 2020 18:10 GMT\n",
      "       </p>\n",
      "       <p class=\"metadata\">\n",
      "        Category: UK-News\n",
      "       </p>\n",
      "       <p class=\"snippet\">\n",
      "        At least seven people have been killed across the UK in road traffic collisions over the new year period. The deaths included three British Airways ca …\n",
      "       </p>\n",
      "      </div>\n",
      "      <div class=\"article\">\n",
      "       <h5>\n",
      "        19.\n",
      "        <a href=\"https://www.theguardian.com/uk-news/2020/jan/01/man-held-on-suspicion-of-double-after-bodies-found-in-house\" target=\"_blank\">\n",
      "         Man held on suspicion of double murder after bodies found in house\n",
      "        </a>\n",
      "       </h5>\n",
      "       <p class=\"metadata\">\n",
      "        Wed 1 Jan 2020 18:35 GMT\n",
      "       </p>\n",
      "       <p class=\"metadata\">\n",
      "        Category:\n",
      "        <i>\n",
      "         UK-News\n",
      "        </i>\n",
      "       </p>\n",
      "       <p class=\"snippet\">\n",
      "        Police have arrested a man on suspicion of murdering two people at a house in the village of Duffield in Derbyshire. The murder investigation was laun …\n",
      "       </p>\n",
      "      </div>\n",
      "      <div class=\"article\">\n",
      "       <h5>\n",
      "        20.\n",
      "        <a href=\"https://www.theguardian.com/lifeandstyle/2020/jan/02/great-expectations-the-quest-for-perfection-has-cannibalised-my-identity\" target=\"_blank\">\n",
      "         Great expectations: 'The quest for perfection has cannibalised my identity'\n",
      "        </a>\n",
      "       </h5>\n",
      "       <p class=\"metadata\">\n",
      "        Wed 1 Jan 2020 19:00 GMT\n",
      "       </p>\n",
      "       <p class=\"metadata\">\n",
      "        Category: Life-and-Style\n",
      "       </p>\n",
      "       <p class=\"snippet\">\n",
      "        âYou need to practice self-compassion,â my psychologist says to me. This is our sixth session and as per usual he is struggling to find a phrase, a po …\n",
      "       </p>\n",
      "      </div>\n",
      "      <div class=\"article\">\n",
      "       <h5>\n",
      "        21.\n",
      "        <a href=\"https://www.theguardian.com/uk-news/2020/jan/01/anti-islamic-slogans-spray-painted-near-mosque-in-brixton\" target=\"_blank\">\n",
      "         Anti-Islamic slogans spray-painted near mosque in Brixton\n",
      "        </a>\n",
      "       </h5>\n",
      "       <p class=\"metadata\">\n",
      "        Wed 1 Jan 2020 20:22 GMT\n",
      "       </p>\n",
      "       <p class=\"metadata\">\n",
      "        Category: UK-News\n",
      "       </p>\n",
      "       <p class=\"snippet\">\n",
      "        Anti-Islamic slogans have been painted on a building close to a mosque and cultural centre in south London, the Metropolitan police have said. Officer …\n",
      "       </p>\n",
      "      </div>\n",
      "      <div class=\"article\">\n",
      "       <h5>\n",
      "        22.\n",
      "        <a href=\"https://www.theguardian.com/sport/live/2020/jan/01/michael-van-gerwen-v-peter-wright-pdc-world-darts-championship-final-live\" target=\"_blank\">\n",
      "         Michael van Gerwen 3-7 Peter Wright: PDC world darts championship final â as it happened\n",
      "        </a>\n",
      "       </h5>\n",
      "       <p class=\"metadata\">\n",
      "        Wed 1 Jan 2020 21:30 GMT\n",
      "       </p>\n",
      "       <p class=\"metadata\">\n",
      "        Category: Sport\n",
      "       </p>\n",
      "       <p class=\"snippet\">\n",
      "        <span>\n",
      "         Summary:\n",
      "        </span>\n",
      "        Thatâs it for tonightâs blog, so Iâll leave you with a report from Ally Pally. Thanks for your company, goodnight! Thereâs so much affection for Peter …\n",
      "       </p>\n",
      "      </div>\n",
      "      <div class=\"article\">\n",
      "       <h5>\n",
      "        23.\n",
      "        <a href=\"https://www.theguardian.com/business/2020/jan/02/greggs-launches-meatless-steak-bake-beef-up-vegan-range\" target=\"_blank\">\n",
      "         Greggs launches meatless steak bake to beef up its vegan range\n",
      "        </a>\n",
      "       </h5>\n",
      "       <p class=\"metadata\">\n",
      "        Thu 2 Jan 2020 00:01 GMT\n",
      "       </p>\n",
      "       <p class=\"metadata\">\n",
      "        Category: Business\n",
      "       </p>\n",
      "       <p class=\"snippet\">\n",
      "        Greggs, the UKâs largest bakery chain, will end speculation about its hotly anticipated new vegan snack by launching a meat-free version of its popula …\n",
      "       </p>\n",
      "      </div>\n",
      "      <div class=\"article\">\n",
      "       <h5>\n",
      "        24.\n",
      "        <a href=\"https://www.theguardian.com/music/2020/jan/02/woodford-folk-festival-review-a-much-needed-moment-of-positivity-and-reprieve\" target=\"_blank\">\n",
      "         Woodford folk festival review â a much-needed moment of positivity and reprieve\n",
      "        </a>\n",
      "       </h5>\n",
      "       <p class=\"metadata\">\n",
      "        Thu 2 Jan 2020 02:10 GMT\n",
      "       </p>\n",
      "       <p class=\"metadata\">\n",
      "        Category: Music\n",
      "       </p>\n",
      "       <p class=\"snippet\">\n",
      "        If Woodford folk festival was in mourning this year, you wouldnât have known it. The death in May of festival elder and decade-long patron Bob Hawke c …\n",
      "       </p>\n",
      "      </div>\n",
      "      <div class=\"article\">\n",
      "       <h5>\n",
      "        25.\n",
      "        <a href=\"https://www.theguardian.com/lifeandstyle/2020/jan/02/household-haze-how-to-reduce-smoke-in-your-home-without-an-air-purifier\" target=\"_blank\">\n",
      "         Household haze: how to reduce smoke in your home without an air purifier\n",
      "        </a>\n",
      "       </h5>\n",
      "       <p class=\"metadata\">\n",
      "        Thu 2 Jan 2020 03:46 GMT\n",
      "       </p>\n",
      "       <p class=\"metadata\">\n",
      "        Category: Life-and-Style\n",
      "       </p>\n",
      "       <p class=\"snippet\">\n",
      "        <span>\n",
      "         Summary:\n",
      "        </span>\n",
      "        On 1 January, Canberra experienced its worst air quality on record. Smoke from Australiaâs devastating bushfires has now blown as far as Queenstown, N …\n",
      "       </p>\n",
      "      </div>\n",
      "      <div class=\"article\">\n",
      "       <h5>\n",
      "        26.\n",
      "        <a href=\"https://www.theguardian.com/politics/2020/jan/02/sadiq-khan-pledges-free-london-travel-disabled-people-carers\" target=\"_blank\">\n",
      "         Sadiq Khan pledges free London travel for disabled people's carers\n",
      "        </a>\n",
      "       </h5>\n",
      "       <p class=\"metadata\">\n",
      "        Thu 2 Jan 2020 06:00 GMT\n",
      "       </p>\n",
      "       <p class=\"metadata\">\n",
      "        Category: Politics\n",
      "       </p>\n",
      "       <p class=\"snippet\">\n",
      "        Sadiq Khan has kickstarted his bid for a second term as London mayor by pledging free travel on the cityâs transport for anyone accompanying a disable …\n",
      "       </p>\n",
      "      </div>\n",
      "      <div class=\"article\">\n",
      "       <h5>\n",
      "        27.\n",
      "        <a href=\"https://www.theguardian.com/lifeandstyle/2020/jan/02/how-to-make-a-life-changing-decision-and-stick-to-it\" target=\"_blank\">\n",
      "         âEveryone thought I was madâ: how to make a life-changing decision â and stick to it\n",
      "        </a>\n",
      "       </h5>\n",
      "       <p class=\"metadata\">\n",
      "        Thu 2 Jan 2020 06:00 GMT\n",
      "       </p>\n",
      "       <p class=\"metadata\">\n",
      "        Category:\n",
      "        <i>\n",
      "         Life-and-Style\n",
      "        </i>\n",
      "       </p>\n",
      "       <p class=\"snippet\">\n",
      "        <span>\n",
      "         Summary:\n",
      "        </span>\n",
      "        When I was 26, I broke up with a long-term partner, got an ill-advised facial piercing and changed careers â all in the space of a month. What I learn …\n",
      "       </p>\n",
      "      </div>\n",
      "      <div class=\"article\">\n",
      "       <h5>\n",
      "        28.\n",
      "        <a href=\"https://www.theguardian.com/film/2020/jan/02/in-the-line-of-duty-review-aaron-eckhart\" target=\"_blank\">\n",
      "         In the Line of Duty review â race-against-time cop thriller\n",
      "        </a>\n",
      "       </h5>\n",
      "       <p class=\"metadata\">\n",
      "        Thu 2 Jan 2020 08:00 GMT\n",
      "       </p>\n",
      "       <p class=\"metadata\">\n",
      "        Category: Film\n",
      "       </p>\n",
      "       <p class=\"snippet\">\n",
      "        Thereâs a straight-to-video feel to this cop thriller, directed by action veteran Steven C Miller, written by Jeremy Drysdale (who scripted the indie …\n",
      "       </p>\n",
      "      </div>\n",
      "      <div class=\"article\">\n",
      "       <h5>\n",
      "        29.\n",
      "        <a href=\"https://www.theguardian.com/uk-news/2020/jan/02/manchester-poet-tony-walsh-tribute-childrens-hospital-every-child-counts\" target=\"_blank\">\n",
      "         Manchester poet Tony Walsh performs tribute to children's hospital\n",
      "        </a>\n",
      "       </h5>\n",
      "       <p class=\"metadata\">\n",
      "        Thu 2 Jan 2020 09:00 GMT\n",
      "       </p>\n",
      "       <p class=\"metadata\">\n",
      "        Category:\n",
      "        <i>\n",
      "         UK-News\n",
      "        </i>\n",
      "       </p>\n",
      "       <p class=\"snippet\">\n",
      "        The performance poet Tony Walsh, whose ode to Manchester became a worldwide hit after the Arena bomb, has written a moving tribute to Royal Manchester …\n",
      "       </p>\n",
      "      </div>\n",
      "      <div class=\"article\">\n",
      "       <h5>\n",
      "        30.\n",
      "        <a href=\"https://www.theguardian.com/lifeandstyle/2020/jan/02/writers-try-10-big-fitness-apps-weightlifting-pilates\" target=\"_blank\">\n",
      "         Can your phone keep you fit? Our writers try 10 big fitness apps â from weightlifting to pilates\n",
      "        </a>\n",
      "       </h5>\n",
      "       <p class=\"metadata\">\n",
      "        Thu 2 Jan 2020 10:00 GMT\n",
      "       </p>\n",
      "       <p class=\"metadata\">\n",
      "        Category: Life-and-Style\n",
      "       </p>\n",
      "       <p class=\"snippet\">\n",
      "        Centr Price Â£15.49 a month. What is it? A full-service experience from the Hollywood star Chris Hemsworth: not just workouts, but a complete meal plan …\n",
      "       </p>\n",
      "      </div>\n",
      "      <div class=\"article\">\n",
      "       <h5>\n",
      "        31.\n",
      "        <a href=\"https://www.theguardian.com/film/2020/jan/02/we-are-from-jazz-review-we-are-jazzmen-russia\" target=\"_blank\">\n",
      "         We Are from Jazz review â zany Russian musical comedy\n",
      "        </a>\n",
      "       </h5>\n",
      "       <p class=\"metadata\">\n",
      "        Thu 2 Jan 2020 10:00 GMT\n",
      "       </p>\n",
      "       <p class=\"metadata\">\n",
      "        Category: Film\n",
      "       </p>\n",
      "       <p class=\"snippet\">\n",
      "        Only in a Woody Allen film will you hear quite as much Dixieland jazz as this. Here is We Are from Jazz, or We Are Jazzmen, the zany jazz comedy music …\n",
      "       </p>\n",
      "      </div>\n",
      "      <div class=\"article\">\n",
      "       <h5>\n",
      "        32.\n",
      "        <a href=\"https://www.theguardian.com/books/2020/jan/02/other-side-augusta-hope-joanna-glen\" target=\"_blank\">\n",
      "         The Other Half of Augusta Hope by Joanna Glen review â high emotions\n",
      "        </a>\n",
      "       </h5>\n",
      "       <p class=\"metadata\">\n",
      "        Thu 2 Jan 2020 10:01 GMT\n",
      "       </p>\n",
      "       <p class=\"metadata\">\n",
      "        Category: Books\n",
      "       </p>\n",
      "       <p class=\"snippet\">\n",
      "        <span>\n",
      "         Summary:\n",
      "        </span>\n",
      "        Who is Augusta Hopeâs âother halfâ? In Glenâs debut, shortlisted for the Costa first novel prize, at first itâs Augustaâs twin sister, although the di …\n",
      "       </p>\n",
      "      </div>\n",
      "      <div class=\"article\">\n",
      "       <h5>\n",
      "        33.\n",
      "        <a href=\"https://www.theguardian.com/music/2020/jan/02/tara-erraught-james-baillieu-review-wigmore-hall-london\" target=\"_blank\">\n",
      "         Tara Erraught/James Baillieu review â quietly intense and simply exquisite\n",
      "        </a>\n",
      "       </h5>\n",
      "       <p class=\"metadata\">\n",
      "        Thu 2 Jan 2020 11:00 GMT\n",
      "       </p>\n",
      "       <p class=\"metadata\">\n",
      "        Category: Music\n",
      "       </p>\n",
      "       <p class=\"snippet\">\n",
      "        Irish mezzo Tara Erraughtâs latest Wigmore recital with her pianist James Baillieu took place between Christmas and New Year, though her beautifully c …\n",
      "       </p>\n",
      "      </div>\n",
      "      <div class=\"article\">\n",
      "       <h5>\n",
      "        34.\n",
      "        <a href=\"https://www.theguardian.com/sport/blog/2020/jan/02/talking-horses-picking-the-five-best-races-of-the-last-decade\" target=\"_blank\">\n",
      "         Talking Horses: picking the five best races of the last decade\n",
      "        </a>\n",
      "       </h5>\n",
      "       <p class=\"metadata\">\n",
      "        Thu 2 Jan 2020 11:03 GMT\n",
      "       </p>\n",
      "       <p class=\"metadata\">\n",
      "        Category: Sport\n",
      "       </p>\n",
      "       <p class=\"snippet\">\n",
      "        You might take the view that the end of the decade is actually a year away, but at least itâs 10 years since I last did something like this. Iâve limi …\n",
      "       </p>\n",
      "      </div>\n",
      "      <div class=\"article\">\n",
      "       <h5>\n",
      "        35.\n",
      "        <a href=\"https://www.theguardian.com/books/2020/jan/02/reality-bubble-ziya-tong-review\" target=\"_blank\">\n",
      "         The Reality Bubble by Ziya Tong review â blind spots and hidden truths\n",
      "        </a>\n",
      "       </h5>\n",
      "       <p class=\"metadata\">\n",
      "        Thu 2 Jan 2020 11:58 GMT\n",
      "       </p>\n",
      "       <p class=\"metadata\">\n",
      "        Category: Books\n",
      "       </p>\n",
      "       <p class=\"snippet\">\n",
      "        Publishing functions very much like the fashion world. Like a suddenly ubiquitous cut of hem or style of trainer, a book comes along every few seasons …\n",
      "       </p>\n",
      "      </div>\n",
      "      <div class=\"article\">\n",
      "       <h5>\n",
      "        36.\n",
      "        <a href=\"https://www.theguardian.com/uk-news/2020/jan/02/alleged-drink-driver-arrested-on-motorway-had-no-front-tyres\" target=\"_blank\">\n",
      "         Alleged drink-driver arrested on motorway had no front tyres\n",
      "        </a>\n",
      "       </h5>\n",
      "       <p class=\"metadata\">\n",
      "        Thu 2 Jan 2020 12:43 GMT\n",
      "       </p>\n",
      "       <p class=\"metadata\">\n",
      "        Category: UK-News\n",
      "       </p>\n",
      "       <p class=\"snippet\">\n",
      "        An alleged drink-driver who was arrested on the motorway on New Yearâs Day had been driving without front tyres. The motorist was said to be nearly si …\n",
      "       </p>\n",
      "      </div>\n",
      "      <div class=\"article\">\n",
      "       <h5>\n",
      "        37.\n",
      "        <a href=\"https://www.theguardian.com/books/2020/jan/02/mc-beaton-author-agatha-raisin-novels-dies-aged-83-hamish-macbeth\" target=\"_blank\">\n",
      "         MC Beaton, multimillion-selling author of Agatha Raisin novels, dies aged 83\n",
      "        </a>\n",
      "       </h5>\n",
      "       <p class=\"metadata\">\n",
      "        Thu 2 Jan 2020 12:45 GMT\n",
      "       </p>\n",
      "       <p class=\"metadata\">\n",
      "        Category: Books\n",
      "       </p>\n",
      "       <p class=\"snippet\">\n",
      "        MC Beaton, the prolific creator of the much loved fictional detectives Agatha Raisin and Hamish Macbeth, has died after a short illness at the age of …\n",
      "       </p>\n",
      "      </div>\n",
      "      <div class=\"article\">\n",
      "       <h5>\n",
      "        38.\n",
      "        <a href=\"https://www.theguardian.com/film/2020/jan/02/first-transgender-marvel-superhero-coming-very-soon-kevin-feige\" target=\"_blank\">\n",
      "         First transgender Marvel superhero coming 'very soon'\n",
      "        </a>\n",
      "       </h5>\n",
      "       <p class=\"metadata\">\n",
      "        Thu 2 Jan 2020 12:47 GMT\n",
      "       </p>\n",
      "       <p class=\"metadata\">\n",
      "        Category:\n",
      "        <i>\n",
      "         Film\n",
      "        </i>\n",
      "       </p>\n",
      "       <p class=\"snippet\">\n",
      "        The first transgender character in a Marvel movie will probably appear in a film released next year. Speaking at an event at the New York Film Academy …\n",
      "       </p>\n",
      "      </div>\n",
      "      <div class=\"article\">\n",
      "       <h5>\n",
      "        39.\n",
      "        <a href=\"https://www.theguardian.com/lifeandstyle/2020/jan/02/how-to-set-fitness-goals-you-will-actually-keep\" target=\"_blank\">\n",
      "         The six-pack can wait: how to set fitness goals you will actually keep\n",
      "        </a>\n",
      "       </h5>\n",
      "       <p class=\"metadata\">\n",
      "        Thu 2 Jan 2020 13:00 GMT\n",
      "       </p>\n",
      "       <p class=\"metadata\">\n",
      "        Category:\n",
      "        <i>\n",
      "         Life-and-Style\n",
      "        </i>\n",
      "       </p>\n",
      "       <p class=\"snippet\">\n",
      "        <span>\n",
      "         Summary:\n",
      "        </span>\n",
      "        Most of us have, at some point in our lives, looked in the mirror and decided we need a radical image overhaul â especially in January. Then, when we …\n",
      "       </p>\n",
      "      </div>\n",
      "      <div class=\"article\">\n",
      "       <h5>\n",
      "        40.\n",
      "        <a href=\"https://www.theguardian.com/uk-news/2020/jan/02/gold-highlands-mine-scottish-jewellery\" target=\"_blank\">\n",
      "         Gold from Highlands mine to be made into Scottish jewellery\n",
      "        </a>\n",
      "       </h5>\n",
      "       <p class=\"metadata\">\n",
      "        Thu 2 Jan 2020 13:02 GMT\n",
      "       </p>\n",
      "       <p class=\"metadata\">\n",
      "        Category: UK-News\n",
      "       </p>\n",
      "       <p class=\"snippet\">\n",
      "        A small goldmine in the Highlands plans to start producing gold in commercial quantities for the first time after repeated delays. The mine at Cononis …\n",
      "       </p>\n",
      "      </div>\n",
      "      <div class=\"article\">\n",
      "       <h5>\n",
      "        41.\n",
      "        <a href=\"https://www.theguardian.com/uk-news/2020/jan/02/tell-us-about-your-mixed-sex-civil-partnership-plans\" target=\"_blank\">\n",
      "         Tell us about your mixed-sex civil partnership plans\n",
      "        </a>\n",
      "       </h5>\n",
      "       <p class=\"metadata\">\n",
      "        Thu 2 Jan 2020 13:11 GMT\n",
      "       </p>\n",
      "       <p class=\"metadata\">\n",
      "        Category:\n",
      "        <i>\n",
      "         UK-News\n",
      "        </i>\n",
      "       </p>\n",
      "       <p class=\"snippet\">\n",
      "        The first mixed-sex couples have started to become civil partners in the UK, following a landmark legal battle won by Rebecca Steinfeld and Charles Ke …\n",
      "       </p>\n",
      "      </div>\n",
      "      <div class=\"article\">\n",
      "       <h5>\n",
      "        42.\n",
      "        <a href=\"https://www.theguardian.com/sport/2020/jan/02/england-south-africa-second-test-cape-town-newlands\" target=\"_blank\">\n",
      "         England ready for tortoise and hare race in second Test at Newlands\n",
      "        </a>\n",
      "       </h5>\n",
      "       <p class=\"metadata\">\n",
      "        Thu 2 Jan 2020 13:20 GMT\n",
      "       </p>\n",
      "       <p class=\"metadata\">\n",
      "        Category: Sport\n",
      "       </p>\n",
      "       <p class=\"snippet\">\n",
      "        As Harold Macmillan is supposed to have explained, there are times when the bestâlaid plans disappear like melting snow in springtime and a whole new …\n",
      "       </p>\n",
      "      </div>\n",
      "      <div class=\"article\">\n",
      "       <h5>\n",
      "        43.\n",
      "        <a href=\"https://www.theguardian.com/film/2020/jan/02/all-federico-fellinis-films-ranked\" target=\"_blank\">\n",
      "         All Federico Fellini's films â ranked!\n",
      "        </a>\n",
      "       </h5>\n",
      "       <p class=\"metadata\">\n",
      "        Thu 2 Jan 2020 14:00 GMT\n",
      "       </p>\n",
      "       <p class=\"metadata\">\n",
      "        Category:\n",
      "        <i>\n",
      "         Film\n",
      "        </i>\n",
      "       </p>\n",
      "       <p class=\"snippet\">\n",
      "        20. The Voice of the Moon (1990) A gentle, episodic Fellini, with Roberto Benigni playing Ivo, a madcap character who travels far and wide across the …\n",
      "       </p>\n",
      "      </div>\n",
      "      <div class=\"article\">\n",
      "       <h5>\n",
      "        44.\n",
      "        <a href=\"https://www.theguardian.com/uk-news/2020/jan/02/isle-of-wights-rattling-rolling-charming-ex-tube-trains-face-end-of-the-line\" target=\"_blank\">\n",
      "         Isle of Wightâs rattling, rolling, charming ex-tube trains face end of the line\n",
      "        </a>\n",
      "       </h5>\n",
      "       <p class=\"metadata\">\n",
      "        Thu 2 Jan 2020 14:00 GMT\n",
      "       </p>\n",
      "       <p class=\"metadata\">\n",
      "        Category:\n",
      "        <span>\n",
      "         UK-News\n",
      "        </span>\n",
      "       </p>\n",
      "       <p class=\"snippet\">\n",
      "        The train trip from Ryde Pier Head to Shanklin on the Isle of Wight in carriages built 80 years ago for the small tunnels of certain London Undergroun …\n",
      "       </p>\n",
      "      </div>\n",
      "      <div class=\"article\">\n",
      "       <h5>\n",
      "        45.\n",
      "        <a href=\"https://www.theguardian.com/books/2020/jan/02/meaty-samantha-irby-review\" target=\"_blank\">\n",
      "         Meaty by Samantha Irby review â scatological essays\n",
      "        </a>\n",
      "       </h5>\n",
      "       <p class=\"metadata\">\n",
      "        Thu 2 Jan 2020 14:01 GMT\n",
      "       </p>\n",
      "       <p class=\"metadata\">\n",
      "        Category: Books\n",
      "       </p>\n",
      "       <p class=\"snippet\">\n",
      "        To call Samantha Irbyâs book scatological would be an understatement. This is a book about assholes â yes, the kind who cheats on you, or never calls, …\n",
      "       </p>\n",
      "      </div>\n",
      "      <div class=\"article\">\n",
      "       <h5>\n",
      "        46.\n",
      "        <a href=\"https://www.theguardian.com/uk-news/2020/jan/02/call-for-more-diverse-lake-district-sparks-row-over-future\" target=\"_blank\">\n",
      "         Call for more diverse Lake District sparks row over area's future\n",
      "        </a>\n",
      "       </h5>\n",
      "       <p class=\"metadata\">\n",
      "        Thu 2 Jan 2020 15:38 GMT\n",
      "       </p>\n",
      "       <p class=\"metadata\">\n",
      "        Category:\n",
      "        <i>\n",
      "         UK-News\n",
      "        </i>\n",
      "       </p>\n",
      "       <p class=\"snippet\">\n",
      "        The head of the Lake District national park authority (LDNPA) has been accused of using the issue of diversity to push through commercial development …\n",
      "       </p>\n",
      "      </div>\n",
      "      <div class=\"article\">\n",
      "       <h5>\n",
      "        47.\n",
      "        <a href=\"https://www.theguardian.com/film/2020/jan/02/lust-in-translation-how-we-fell-for-the-people-giving-arthouse-auteurs-a-voice\" target=\"_blank\">\n",
      "         Sharon Choi: how we fell for Bong Joon-ho's translator\n",
      "        </a>\n",
      "       </h5>\n",
      "       <p class=\"metadata\">\n",
      "        Thu 2 Jan 2020 16:00 GMT\n",
      "       </p>\n",
      "       <p class=\"metadata\">\n",
      "        Category: Film\n",
      "       </p>\n",
      "       <p class=\"snippet\">\n",
      "        Just when you thought Bong Joon-ho â the affable maestro of Korean cinema and now, with his class-conscious Cannes winner Parasite, champion of the pe …\n",
      "       </p>\n",
      "      </div>\n",
      "      <div class=\"article\">\n",
      "       <h5>\n",
      "        48.\n",
      "        <a href=\"https://www.theguardian.com/politics/2020/jan/02/whitehall-reforms-may-lead-to-discrimination-says-union\" target=\"_blank\">\n",
      "         Whitehall reforms may lead to discrimination, says union\n",
      "        </a>\n",
      "       </h5>\n",
      "       <p class=\"metadata\">\n",
      "        Thu 2 Jan 2020 16:01 GMT\n",
      "       </p>\n",
      "       <p class=\"metadata\">\n",
      "        Category: Politics\n",
      "       </p>\n",
      "       <p class=\"snippet\">\n",
      "        Boris Johnsonâs âseismicâ Whitehall reforms, including regular exams for senior civil servants, could lead to discrimination against staff on the grou …\n",
      "       </p>\n",
      "      </div>\n",
      "      <div class=\"article\">\n",
      "       <h5>\n",
      "        49.\n",
      "        <a href=\"https://www.theguardian.com/film/2020/jan/02/the-most-exciting-movies-of-2020-biopics\" target=\"_blank\">\n",
      "         The most exciting movies of 2020 â biopics\n",
      "        </a>\n",
      "       </h5>\n",
      "       <p class=\"metadata\">\n",
      "        Thu 2 Jan 2020 16:02 GMT\n",
      "       </p>\n",
      "       <p class=\"metadata\">\n",
      "        Category: Film\n",
      "       </p>\n",
      "       <p class=\"snippet\">\n",
      "        Respect Having wiped away her Catstoddler snot, Jennifer Hudson gives her pipes a wider airing in this Aretha Franklin biopic which â unlike other mov …\n",
      "       </p>\n",
      "      </div>\n",
      "      <div class=\"article\">\n",
      "       <h5>\n",
      "        50.\n",
      "        <a href=\"https://www.theguardian.com/lifeandstyle/lostinshowbiz/2020/jan/02/tune-free-pop-and-the-new-katie-hopkins-our-2020-celebrity-predictions\" target=\"_blank\">\n",
      "         Tune-free pop and the new Katie Hopkins: our 2020 celebrity predictions\n",
      "        </a>\n",
      "       </h5>\n",
      "       <p class=\"metadata\">\n",
      "        Thu 2 Jan 2020 17:46 GMT\n",
      "       </p>\n",
      "       <p class=\"metadata\">\n",
      "        Category: Life-and-Style\n",
      "       </p>\n",
      "       <p class=\"snippet\">\n",
      "        There are two ways to spend New Yearâs Eve, as best as I can tell: you either dirty the floor of a house party and spend the smallest of the small hou …\n",
      "       </p>\n",
      "      </div>\n",
      "      <div class=\"text-center paging\">\n",
      "       <nav aria-label=\"Page navigation example\">\n",
      "        <ul class=\"pagination\">\n",
      "         <li class=\"page-item disabled\">\n",
      "          <a aria-label=\"First\" class=\"page-link\" href=\"#\">\n",
      "           <span aria-hidden=\"true\">\n",
      "            First\n",
      "           </span>\n",
      "           <span class=\"sr-only\">\n",
      "            First\n",
      "           </span>\n",
      "          </a>\n",
      "         </li>\n",
      "         <li class=\"page-item disabled\">\n",
      "          <a aria-label=\"Previous\" class=\"page-link\" href=\"#\">\n",
      "           <span aria-hidden=\"true\">\n",
      "            « Previous\n",
      "           </span>\n",
      "           <span class=\"sr-only\">\n",
      "            Previous\n",
      "           </span>\n",
      "          </a>\n",
      "         </li>\n",
      "         <li class=\"page-item\">\n",
      "          <a aria-label=\"Next\" class=\"page-link\" href=\"month-jan-002.html\">\n",
      "           <span aria-hidden=\"true\">\n",
      "            Next »\n",
      "           </span>\n",
      "           <span class=\"sr-only\">\n",
      "            Next\n",
      "           </span>\n",
      "          </a>\n",
      "         </li>\n",
      "         <li class=\"page-item\">\n",
      "          <a aria-label=\"Last\" class=\"page-link\" href=\"month-jan-031.html\">\n",
      "           <span aria-hidden=\"true\">\n",
      "            Last\n",
      "           </span>\n",
      "           <span class=\"sr-only\">\n",
      "            Last\n",
      "           </span>\n",
      "          </a>\n",
      "         </li>\n",
      "        </ul>\n",
      "       </nav>\n",
      "      </div>\n",
      "     </div>\n",
      "    </div>\n",
      "   </div>\n",
      "   <div class=\"footer\">\n",
      "    Content on this site is posted for teaching purposes only.\n",
      "   </div>\n",
      "  </div>\n",
      "  <!-- Bootstrap core JavaScript\n",
      "    ================================================== -->\n",
      "  <!-- Placed at the end of the document so the pages load faster -->\n",
      "  <script src=\"https://ajax.googleapis.com/ajax/libs/jquery/1.11.0/jquery.min.js\">\n",
      "  </script>\n",
      "  <script src=\"assets/js/bootstrap.min.js\">\n",
      "  </script>\n",
      "  <script src=\"assets/js/retina-1.1.0.js\">\n",
      "  </script>\n",
      "  <script src=\"assets/js/jquery.hoverdir.js\">\n",
      "  </script>\n",
      "  <script src=\"assets/js/jquery.hoverex.min.js\">\n",
      "  </script>\n",
      "  <script src=\"assets/js/jquery.isotope.min.js\">\n",
      "  </script>\n",
      "  <script src=\"assets/js/custom.js\">\n",
      "  </script>\n",
      " </body>\n",
      "</html>\n",
      "\n"
     ]
    }
   ],
   "source": [
    "url=\"http://mlg.ucd.ie/modules/COMP41680/assignment2/month-jan-001.html\" #first webpage of january\n",
    "# Make a GET request to fetch the raw HTML content\n",
    "html_content = requests.get(url).text \n",
    "soup = BeautifulSoup(html_content, \"lxml\") #using beautiful soup \n",
    "print(soup.prettify()) # print the parsed data of html\n"
   ]
  },
  {
   "cell_type": "markdown",
   "metadata": {
    "id": "y6_DXeKt3F0h"
   },
   "source": [
    "The entire information for one story is present inside an 'article' tag so we will examine its contents separately especially focusing on its children tags(tags nested inside it)."
   ]
  },
  {
   "cell_type": "code",
   "execution_count": 3,
   "metadata": {
    "colab": {
     "base_uri": "https://localhost:8080/"
    },
    "id": "LS_cAy0AgeYL",
    "outputId": "30c094be-77e0-4e49-ab24-809623f63196"
   },
   "outputs": [
    {
     "name": "stdout",
     "output_type": "stream",
     "text": [
      "<div class=\"article\"><h5>1. <a href=\"https://www.theguardian.com/uk-news/2020/jan/01/lets-resolve-to-reconnect-says-welby-in-new-year-message\" target=\"_blank\">Let's resolve to reconnect, says Welby in new year message</a></h5><p class=\"metadata\">Wed 1 Jan 2020 00:01 GMT</p><p class=\"metadata\">Category: <span>UK-News</span></p><p class=\"snippet\">The archbishop of Canterbury will urge people to make personal connections with others in 2020 to create a new unity in a divided society. In his new …</p></div>\n",
      "[<h5>1. <a href=\"https://www.theguardian.com/uk-news/2020/jan/01/lets-resolve-to-reconnect-says-welby-in-new-year-message\" target=\"_blank\">Let's resolve to reconnect, says Welby in new year message</a></h5>, <p class=\"metadata\">Wed 1 Jan 2020 00:01 GMT</p>, <p class=\"metadata\">Category: <span>UK-News</span></p>, <p class=\"snippet\">The archbishop of Canterbury will urge people to make personal connections with others in 2020 to create a new unity in a divided society. In his new …</p>]\n"
     ]
    }
   ],
   "source": [
    "article=soup.find('div',class_='article') #finding first tag named article\n",
    "print(article)\n",
    "print(list(article.children)) #printing nested tags inside article tag"
   ]
  },
  {
   "cell_type": "markdown",
   "metadata": {
    "id": "W53HQpiC35VZ"
   },
   "source": [
    "We notice that headline is under a text tag inside an a tag inside a h5 tag inside article tag. Similarly tag paths for category and snippets were identified and now we will verify the same."
   ]
  },
  {
   "cell_type": "code",
   "execution_count": 4,
   "metadata": {
    "colab": {
     "base_uri": "https://localhost:8080/"
    },
    "id": "cpzBzrHNgeYM",
    "outputId": "7e23f898-00b3-480b-eff3-7013e38d3bca"
   },
   "outputs": [
    {
     "name": "stdout",
     "output_type": "stream",
     "text": [
      "Let's resolve to reconnect, says Welby in new year message\n",
      "UK-News\n",
      "The archbishop of Canterbury will urge people to make personal connections with others in 2020 to create a new unity in a divided society. In his new …\n"
     ]
    }
   ],
   "source": [
    "#verifying data present inside identified tags\n",
    "headline=article.h5.a.text \n",
    "print(headline)\n",
    "category=article.span.text\n",
    "print(category)\n",
    "snippet=list(article.children)[3].text\n",
    "print(snippet)"
   ]
  },
  {
   "cell_type": "markdown",
   "metadata": {
    "id": "mO2voCA44ZXw"
   },
   "source": [
    "As we can see the required information that we need to store was printed. So, now we need to get the same info from all the 'article' tags in all the consecutive webpages and write them into a csv file. This has to be done methodically by calling one function inside the other. Lets first check if we are able to categorize all the info from all the stories from the soup we just parsed then we will go for entire dataset."
   ]
  },
  {
   "cell_type": "code",
   "execution_count": 5,
   "metadata": {
    "colab": {
     "base_uri": "https://localhost:8080/"
    },
    "id": "nz46PYqggeYM",
    "outputId": "7e04d605-ca50-40db-adef-17ca1b25f0d4"
   },
   "outputs": [
    {
     "name": "stdout",
     "output_type": "stream",
     "text": [
      "Let's resolve to reconnect, says Welby in new year message\n",
      "UK-News\n",
      "The archbishop of Canterbury will urge people to make personal connections with others in 2020 to create a new unity in a divided society. In his new …\n",
      "\n",
      "Be honest. You're not going to read all those books on your holiday, are you?\n",
      "Books\n",
      "Every year, about this time, my Instagram feed fills up with pictures of books. Theyâre piled somewhere between five and ten inches high, sometimes st …\n",
      "\n",
      "Mariah Carey's Twitter account hacked on New Year's Eve\n",
      "Music\n",
      "Mariah Careyâs Twitter account appeared to have been hacked late Tuesday afternoon, sharing numerous racist slurs and comments with the singerâs 21.4 …\n",
      "\n",
      "The joy audit: how to have more fun in 2020\n",
      "Life-and-Style\n",
      "The last time I felt joy was at an event that would be many peopleâs vision of hell: a drunken Taylor Swift club-night singalong in the early hours of …\n",
      "\n",
      "Providence Lost by Paul Lay review â the rise and fall of Oliver Cromwellâs Protectorate\n",
      "Books\n",
      "The only public execution of a British head of state occurred 371 years ago outside the Banqueting House in Whitehall on 30 January 1649. It was a rad …\n",
      "\n",
      "Zero-carbon electricity outstrips fossil fuels in Britain across 2019\n",
      "Business\n",
      "Summary: Zero-carbon energy became Britainâs largest electricity source in 2019, delivering nearly half the countryâs electrical power and for the first time o …\n",
      "\n",
      "The final sprint: will any of the Democratic candidates excite voters?\n",
      "US-News\n",
      "Democrats overwhelmingly agree that their top priority in 2020 is to remove Donald Trump from office. But which of the many Democrats running for pres …\n",
      "\n",
      "War epics, airmen and young Sopranos: essential films for 2020\n",
      "Film\n",
      "1917 An epic of Lean-ian proportions is delivered in this spectacular from director and co-writer Sam Mendes, who has developed a real-life story of h …\n",
      "\n",
      "Stashing your cash: the beginner's guide to saving\n",
      "Life-and-Style\n",
      "Much like going for a run or eating your greens, saving your cash offers long-term benefits, but is not always appealing. And, letâs face it, there ar …\n",
      "\n",
      "'I'm on the hunt for humour and hope': what will authors be reading in 2020?\n",
      "Books\n",
      "Matt Haig I have been very dark and gloomy with my reading habits this year, perhaps in tune with the social mood. Like a pig sniffing for truffles, I …\n",
      "\n",
      "Twenty athletes set to light up the Tokyo 2020 Olympics\n",
      "Sport\n",
      "Dina Asher-Smith Great Britain Athletics, 100m, 200m, 4x100m Seb Coe, who knows a thing or two about winning Olympic titles, believes Asher-Smith will …\n",
      "\n",
      "The most exciting movies of 2020 â horror\n",
      "Film\n",
      "The Grudge A belated English language reboot of Japanese classic Ju-On: The Grudge (2002), this stars Andrea Riseborough and DemiÃ¡n Bichir as detectiv …\n",
      "\n",
      "Diary of a Murderer by Kim Young-ha review â dark stories from South Korea\n",
      "Books\n",
      "Given that loss of memory has become a familiar device in fiction, and the psychopath such a popular character archetype, we shouldnât be too surprise …\n",
      "\n",
      "US election, Brexit and China to sway the markets in 2020\n",
      "Business\n",
      "After profiting from strong markets in 2019, investors are expecting 2020 to bring further rising asset prices and lively merger activity. But Brexit, …\n",
      "\n",
      "TS Eliotâs intimate letters to confidante unveiled after 60 years\n",
      "Books\n",
      "A collection of more than 1,000 letters from the Nobel laureate TS Eliot to his confidante and muse Emily Hale is unveiled this week, after having bee …\n",
      "\n",
      "Clive Lewis calls for unity among Labour leadership hopefuls\n",
      "Politics\n",
      "Summary: The Labour leadership hopeful Clive Lewis has called for unity among would-be candidates to succeed Jeremy Corbyn as they confront the âcliff faceâ of …\n",
      "\n",
      "Visa applications: Home Office refuses to reveal 'high risk' countries\n",
      "UK-News\n",
      "Summary: Campaign groups have criticised the Home Office after it refused to release details of which countries are deemed a âriskâ in an algorithm that filter …\n",
      "\n",
      "Victims of NYE Surrey road crash were BA cabin crew\n",
      "UK-News\n",
      "At least seven people have been killed across the UK in road traffic collisions over the new year period. The deaths included three British Airways ca …\n",
      "\n",
      "Man held on suspicion of double murder after bodies found in house\n",
      "UK-News\n",
      "Police have arrested a man on suspicion of murdering two people at a house in the village of Duffield in Derbyshire. The murder investigation was laun …\n",
      "\n",
      "Great expectations: 'The quest for perfection has cannibalised my identity'\n",
      "Life-and-Style\n",
      "âYou need to practice self-compassion,â my psychologist says to me. This is our sixth session and as per usual he is struggling to find a phrase, a po …\n",
      "\n",
      "Anti-Islamic slogans spray-painted near mosque in Brixton\n",
      "UK-News\n",
      "Anti-Islamic slogans have been painted on a building close to a mosque and cultural centre in south London, the Metropolitan police have said. Officer …\n",
      "\n",
      "Michael van Gerwen 3-7 Peter Wright: PDC world darts championship final â as it happened\n",
      "Sport\n",
      "Summary: Thatâs it for tonightâs blog, so Iâll leave you with a report from Ally Pally. Thanks for your company, goodnight! Thereâs so much affection for Peter …\n",
      "\n",
      "Greggs launches meatless steak bake to beef up its vegan range\n",
      "Business\n",
      "Greggs, the UKâs largest bakery chain, will end speculation about its hotly anticipated new vegan snack by launching a meat-free version of its popula …\n",
      "\n",
      "Woodford folk festival review â a much-needed moment of positivity and reprieve\n",
      "Music\n",
      "If Woodford folk festival was in mourning this year, you wouldnât have known it. The death in May of festival elder and decade-long patron Bob Hawke c …\n",
      "\n",
      "Household haze: how to reduce smoke in your home without an air purifier\n",
      "Life-and-Style\n",
      "Summary: On 1 January, Canberra experienced its worst air quality on record. Smoke from Australiaâs devastating bushfires has now blown as far as Queenstown, N …\n",
      "\n",
      "Sadiq Khan pledges free London travel for disabled people's carers\n",
      "Politics\n",
      "Sadiq Khan has kickstarted his bid for a second term as London mayor by pledging free travel on the cityâs transport for anyone accompanying a disable …\n",
      "\n",
      "âEveryone thought I was madâ: how to make a life-changing decision â and stick to it\n",
      "Life-and-Style\n",
      "Summary: When I was 26, I broke up with a long-term partner, got an ill-advised facial piercing and changed careers â all in the space of a month. What I learn …\n",
      "\n",
      "In the Line of Duty review â race-against-time cop thriller\n",
      "Film\n",
      "Thereâs a straight-to-video feel to this cop thriller, directed by action veteran Steven C Miller, written by Jeremy Drysdale (who scripted the indie …\n",
      "\n",
      "Manchester poet Tony Walsh performs tribute to children's hospital\n",
      "UK-News\n",
      "The performance poet Tony Walsh, whose ode to Manchester became a worldwide hit after the Arena bomb, has written a moving tribute to Royal Manchester …\n",
      "\n",
      "Can your phone keep you fit? Our writers try 10 big fitness apps â from weightlifting to pilates\n",
      "Life-and-Style\n",
      "Centr Price Â£15.49 a month. What is it? A full-service experience from the Hollywood star Chris Hemsworth: not just workouts, but a complete meal plan …\n",
      "\n",
      "We Are from Jazz review â zany Russian musical comedy\n",
      "Film\n",
      "Only in a Woody Allen film will you hear quite as much Dixieland jazz as this. Here is We Are from Jazz, or We Are Jazzmen, the zany jazz comedy music …\n",
      "\n",
      "The Other Half of Augusta Hope by Joanna Glen review â high emotions\n",
      "Books\n",
      "Summary: Who is Augusta Hopeâs âother halfâ? In Glenâs debut, shortlisted for the Costa first novel prize, at first itâs Augustaâs twin sister, although the di …\n",
      "\n",
      "Tara Erraught/James Baillieu review â quietly intense and simply exquisite\n",
      "Music\n",
      "Irish mezzo Tara Erraughtâs latest Wigmore recital with her pianist James Baillieu took place between Christmas and New Year, though her beautifully c …\n",
      "\n",
      "Talking Horses: picking the five best races of the last decade\n",
      "Sport\n",
      "You might take the view that the end of the decade is actually a year away, but at least itâs 10 years since I last did something like this. Iâve limi …\n",
      "\n",
      "The Reality Bubble by Ziya Tong review â blind spots and hidden truths\n",
      "Books\n",
      "Publishing functions very much like the fashion world. Like a suddenly ubiquitous cut of hem or style of trainer, a book comes along every few seasons …\n",
      "\n",
      "Alleged drink-driver arrested on motorway had no front tyres\n",
      "UK-News\n",
      "An alleged drink-driver who was arrested on the motorway on New Yearâs Day had been driving without front tyres. The motorist was said to be nearly si …\n",
      "\n",
      "MC Beaton, multimillion-selling author of Agatha Raisin novels, dies aged 83\n",
      "Books\n",
      "MC Beaton, the prolific creator of the much loved fictional detectives Agatha Raisin and Hamish Macbeth, has died after a short illness at the age of …\n",
      "\n",
      "First transgender Marvel superhero coming 'very soon'\n",
      "Film\n",
      "The first transgender character in a Marvel movie will probably appear in a film released next year. Speaking at an event at the New York Film Academy …\n",
      "\n",
      "The six-pack can wait: how to set fitness goals you will actually keep\n",
      "Life-and-Style\n",
      "Summary: Most of us have, at some point in our lives, looked in the mirror and decided we need a radical image overhaul â especially in January. Then, when we …\n",
      "\n",
      "Gold from Highlands mine to be made into Scottish jewellery\n",
      "UK-News\n",
      "A small goldmine in the Highlands plans to start producing gold in commercial quantities for the first time after repeated delays. The mine at Cononis …\n",
      "\n",
      "Tell us about your mixed-sex civil partnership plans\n",
      "UK-News\n",
      "The first mixed-sex couples have started to become civil partners in the UK, following a landmark legal battle won by Rebecca Steinfeld and Charles Ke …\n",
      "\n",
      "England ready for tortoise and hare race in second Test at Newlands\n",
      "Sport\n",
      "As Harold Macmillan is supposed to have explained, there are times when the bestâlaid plans disappear like melting snow in springtime and a whole new …\n",
      "\n",
      "All Federico Fellini's films â ranked!\n",
      "Film\n",
      "20. The Voice of the Moon (1990) A gentle, episodic Fellini, with Roberto Benigni playing Ivo, a madcap character who travels far and wide across the …\n",
      "\n",
      "Isle of Wightâs rattling, rolling, charming ex-tube trains face end of the line\n",
      "UK-News\n",
      "The train trip from Ryde Pier Head to Shanklin on the Isle of Wight in carriages built 80 years ago for the small tunnels of certain London Undergroun …\n",
      "\n",
      "Meaty by Samantha Irby review â scatological essays\n",
      "Books\n",
      "To call Samantha Irbyâs book scatological would be an understatement. This is a book about assholes â yes, the kind who cheats on you, or never calls, …\n",
      "\n",
      "Call for more diverse Lake District sparks row over area's future\n",
      "UK-News\n",
      "The head of the Lake District national park authority (LDNPA) has been accused of using the issue of diversity to push through commercial development …\n",
      "\n",
      "Sharon Choi: how we fell for Bong Joon-ho's translator\n",
      "Film\n",
      "Just when you thought Bong Joon-ho â the affable maestro of Korean cinema and now, with his class-conscious Cannes winner Parasite, champion of the pe …\n",
      "\n",
      "Whitehall reforms may lead to discrimination, says union\n",
      "Politics\n",
      "Boris Johnsonâs âseismicâ Whitehall reforms, including regular exams for senior civil servants, could lead to discrimination against staff on the grou …\n",
      "\n",
      "The most exciting movies of 2020 â biopics\n",
      "Film\n",
      "Respect Having wiped away her Catstoddler snot, Jennifer Hudson gives her pipes a wider airing in this Aretha Franklin biopic which â unlike other mov …\n",
      "\n",
      "Tune-free pop and the new Katie Hopkins: our 2020 celebrity predictions\n",
      "Life-and-Style\n",
      "There are two ways to spend New Yearâs Eve, as best as I can tell: you either dirty the floor of a house party and spend the smallest of the small hou …\n",
      "\n"
     ]
    }
   ],
   "source": [
    "for article in soup.find_all('div',class_='article'): #going through all tags named article one by one\n",
    "    headline=article.h5.a.text\n",
    "    print(headline)\n",
    "    category=list(article.children)[2].text.split(\": \")\n",
    "    category=category[1]\n",
    "    print(category)\n",
    "    snippet=list(article.children)[3].text\n",
    "    print(snippet)\n",
    "    print() #keeping a gap line between two stories"
   ]
  },
  {
   "cell_type": "markdown",
   "metadata": {
    "id": "6uRQGV-e5QlC"
   },
   "source": [
    "Now lets write a function scrape that will collect the same information from the soup of a given webpage."
   ]
  },
  {
   "cell_type": "code",
   "execution_count": 6,
   "metadata": {
    "id": "8MUu-Hp0geYN"
   },
   "outputs": [],
   "source": [
    "def scrape(source_url, soup):  # Takes the driver and the subdomain for concats as params\n",
    "    # Find the elements of the article tag\n",
    "    news = soup.find_all('div',class_='article')\n",
    "\n",
    "    # Iterate over each book article tag\n",
    "    for article in news:\n",
    "        headline=article.h5.a.text\n",
    "        category=list(article.children)[2].text.split(\": \")\n",
    "        category=category[1]\n",
    "        snippet=list(article.children)[3].text\n",
    "        # Invoke the write_to_csv function\n",
    "        if category=='UK-News' or category == 'Books' or category == 'Music':\n",
    "            write_to_csv([category,headline, snippet])"
   ]
  },
  {
   "cell_type": "markdown",
   "metadata": {
    "id": "SBT85NzM5Z3Z"
   },
   "source": [
    "Next, we write a function with appropriate encoding that writes a list passed into it into a csv file where data will be dumped."
   ]
  },
  {
   "cell_type": "code",
   "execution_count": 7,
   "metadata": {
    "id": "LdN-3AUigeYN"
   },
   "outputs": [],
   "source": [
    "def write_to_csv(list_input):\n",
    "    # The scraped info will be written to a CSV here.\n",
    "    try:\n",
    "        with open(\"allnews.csv\", \"a\",encoding=\"utf-7\") as fopen:  # Open the csv file.\n",
    "            csv_writer = csv.writer(fopen)\n",
    "            csv_writer.writerow(list_input)\n",
    "    except:\n",
    "        return False"
   ]
  },
  {
   "cell_type": "markdown",
   "metadata": {
    "id": "XGAltgB85-JR"
   },
   "source": [
    "Next, we write a function that will jump to the next webpage whose link is inside the 'next' button in the end of the webpage so that the entire data for one month can be collected in one go."
   ]
  },
  {
   "cell_type": "code",
   "execution_count": 8,
   "metadata": {
    "id": "2HnejvNcgeYO"
   },
   "outputs": [],
   "source": [
    "def browse_and_scrape(seed_url,url):\n",
    "    try:\n",
    "        html_text = requests.get(url).text\n",
    "        soup = BeautifulSoup(html_text, \"lxml\")\n",
    "        z= soup.find_all(\"a\", class_=\"page-link\") #checking if there is a next page\n",
    "        if len(z)>3:\n",
    "            elem=z[2] # finding the right tag for next page link\n",
    "        else:\n",
    "            return\n",
    "        if (elem[\"href\"]) != None:\n",
    "            url=seed_url+elem[\"href\"]\n",
    "            scrape(url, soup)     # Invoke the scrape function\n",
    "            browse_and_scrape(seed_url, url)\n",
    "        else:\n",
    "            scrape(source_url, soup)     # The script exits here\n",
    "            return True\n",
    "        return True\n",
    "    except Exception as e:\n",
    "        return e"
   ]
  },
  {
   "cell_type": "markdown",
   "metadata": {
    "id": "cni-oXIqJyus"
   },
   "source": [
    "Finally we pass the column names to the csv file and start dumping data in the pattern followed by the url so that web scraping can be done in just one instance and then we store the csv file. This marks the end of Task 1. The three chosen categories are UK News, Books and Music. For the entire length of this notebook several inputs have been carried out using 1 for UK news, 2 for Music and 3 for Books. "
   ]
  },
  {
   "cell_type": "code",
   "execution_count": 9,
   "metadata": {
    "colab": {
     "base_uri": "https://localhost:8080/"
    },
    "id": "FECJDo79geYO",
    "outputId": "61c0fe3f-8910-4b2c-e255-707cccf09f72"
   },
   "outputs": [
    {
     "name": "stdout",
     "output_type": "stream",
     "text": [
      "Web scraping has begun for the month:January\n",
      "Web scraping is now complete  for the month:January\n",
      "Web scraping has begun for the month:February\n",
      "Web scraping is now complete  for the month:February\n",
      "Web scraping has begun for the month:March\n",
      "Web scraping is now complete  for the month:March\n",
      "Web scraping has begun for the month:April\n",
      "Web scraping is now complete  for the month:April\n",
      "Web scraping has begun for the month:May\n",
      "Web scraping is now complete  for the month:May\n",
      "Web scraping has begun for the month:June\n",
      "Web scraping is now complete  for the month:June\n",
      "Web scraping has begun for the month:July\n",
      "Web scraping is now complete  for the month:July\n",
      "Web scraping has begun for the month:August\n",
      "Web scraping is now complete  for the month:August\n",
      "Web scraping has begun for the month:September\n",
      "Web scraping is now complete  for the month:September\n",
      "Web scraping has begun for the month:October\n",
      "Web scraping is now complete  for the month:October\n",
      "Web scraping has begun for the month:November\n",
      "Web scraping is now complete  for the month:November\n",
      "Web scraping has begun for the month:December\n",
      "Web scraping is now complete  for the month:December\n"
     ]
    }
   ],
   "source": [
    "write_to_csv(['Category','Title','Snippet'])\n",
    "month_value = range(1,13)\n",
    "mon = [calendar.month_name[i] for i in month_value]\n",
    "for i in mon:\n",
    "    url = \"http://mlg.ucd.ie/modules/COMP41680/assignment2/month-\"+i[0:3].lower()+\"-001.html\" #generating the right url format\n",
    "    seed_url = \"http://mlg.ucd.ie/modules/COMP41680/assignment2/\"\n",
    "    print(\"Web scraping has begun for the month:\"+i)\n",
    "    result = browse_and_scrape(seed_url,url)\n",
    "    if result == True:\n",
    "        print(\"Web scraping is now complete  for the month:\"+i)\n",
    "    else:\n",
    "        print(f\"Oops, That doesn't seem right!!! - {result}\")"
   ]
  },
  {
   "cell_type": "markdown",
   "metadata": {
    "id": "Mww2-UmhsnLw"
   },
   "source": [
    "The code shows the month for which the scraping is in progress one by one and it ends at december. This is done to progress the flow of code as scraping takes a significant time."
   ]
  },
  {
   "cell_type": "markdown",
   "metadata": {
    "id": "wUPrpVYEgeYP"
   },
   "source": [
    "# Task 2: Binary Classification"
   ]
  },
  {
   "cell_type": "markdown",
   "metadata": {
    "id": "ibpu39pTKDZ0"
   },
   "source": [
    "We start by opening the saved csv file and analyzing the columns present and info present inside it"
   ]
  },
  {
   "cell_type": "code",
   "execution_count": 10,
   "metadata": {
    "colab": {
     "base_uri": "https://localhost:8080/"
    },
    "id": "xoGROgwygeYP",
    "outputId": "9edf3e14-4ce6-4260-e1d5-19a9a783b66e"
   },
   "outputs": [
    {
     "name": "stdout",
     "output_type": "stream",
     "text": [
      "  Category  ...                                            Snippet\n",
      "0  UK-News  ...  The archbishop of Canterbury will urge people ...\n",
      "1    Books  ...  Every year, about this time, my Instagram feed...\n",
      "2    Music  ...  Mariah Carey+AOIAgACZ-s Twitter account appear...\n",
      "3    Books  ...  The only public execution of a British head of...\n",
      "4    Books  ...  Matt Haig I have been very dark and gloomy wit...\n",
      "\n",
      "[5 rows x 3 columns]\n"
     ]
    },
    {
     "data": {
      "text/plain": [
       "Books       7284\n",
       "Music       7188\n",
       "UK-News     7180\n",
       "Category       3\n",
       "Name: Category, dtype: int64"
      ]
     },
     "execution_count": 10,
     "metadata": {
      "tags": []
     },
     "output_type": "execute_result"
    }
   ],
   "source": [
    "rawdf = pd.read_csv(\"allnews.csv\")\n",
    "print(rawdf.head())\n",
    "rawdf.Category.value_counts()"
   ]
  },
  {
   "cell_type": "markdown",
   "metadata": {
    "id": "04hohhT1KNRF"
   },
   "source": [
    "Next, we write a function to preprocess the data by converting all text into lowercase, removing any special characters and symbols and stop words including the word news."
   ]
  },
  {
   "cell_type": "code",
   "execution_count": 11,
   "metadata": {
    "colab": {
     "base_uri": "https://localhost:8080/"
    },
    "id": "4OQ0BpinI3oF",
    "outputId": "a0a0445f-b366-4a6b-a28d-1ff26153ecab"
   },
   "outputs": [
    {
     "name": "stdout",
     "output_type": "stream",
     "text": [
      "[nltk_data] Downloading package stopwords to /root/nltk_data...\n",
      "[nltk_data]   Package stopwords is already up-to-date!\n",
      "['i', 'me', 'my', 'myself', 'we', 'our', 'ours', 'ourselves', 'you', \"you're\", \"you've\", \"you'll\", \"you'd\", 'your', 'yours', 'yourself', 'yourselves', 'he', 'him', 'his', 'himself', 'she', \"she's\", 'her', 'hers', 'herself', 'it', \"it's\", 'its', 'itself', 'they', 'them', 'their', 'theirs', 'themselves', 'what', 'which', 'who', 'whom', 'this', 'that', \"that'll\", 'these', 'those', 'am', 'is', 'are', 'was', 'were', 'be', 'been', 'being', 'have', 'has', 'had', 'having', 'do', 'does', 'did', 'doing', 'a', 'an', 'the', 'and', 'but', 'if', 'or', 'because', 'as', 'until', 'while', 'of', 'at', 'by', 'for', 'with', 'about', 'against', 'between', 'into', 'through', 'during', 'before', 'after', 'above', 'below', 'to', 'from', 'up', 'down', 'in', 'out', 'on', 'off', 'over', 'under', 'again', 'further', 'then', 'once', 'here', 'there', 'when', 'where', 'why', 'how', 'all', 'any', 'both', 'each', 'few', 'more', 'most', 'other', 'some', 'such', 'no', 'nor', 'not', 'only', 'own', 'same', 'so', 'than', 'too', 'very', 's', 't', 'can', 'will', 'just', 'don', \"don't\", 'should', \"should've\", 'now', 'd', 'll', 'm', 'o', 're', 've', 'y', 'ain', 'aren', \"aren't\", 'couldn', \"couldn't\", 'didn', \"didn't\", 'doesn', \"doesn't\", 'hadn', \"hadn't\", 'hasn', \"hasn't\", 'haven', \"haven't\", 'isn', \"isn't\", 'ma', 'mightn', \"mightn't\", 'mustn', \"mustn't\", 'needn', \"needn't\", 'shan', \"shan't\", 'shouldn', \"shouldn't\", 'wasn', \"wasn't\", 'weren', \"weren't\", 'won', \"won't\", 'wouldn', \"wouldn't\", 'news']\n"
     ]
    }
   ],
   "source": [
    "def clean_text(text):\n",
    "    text = text.lower() #converting to lower case\n",
    "    text = special_character_remover.sub(' ', text) #replacing special characters with a space\n",
    "    text = extra_symbol_remover.sub('', text) #replacing symbols with a space\n",
    "    text = ' '.join(word for word in text.split() if word not in stopwords) #replacing stopwords with a space\n",
    "    return text\n",
    "rawdf.drop_duplicates(inplace=True) # removing duplicates\n",
    "special_character_remover = re.compile('[/(){}\\[\\]\\|@,;]')\n",
    "extra_symbol_remover = re.compile('[^0-9a-z #+_]')\n",
    "nltk.download('stopwords') #downloading as by default they are not present\n",
    "stopwords = nltk.corpus.stopwords.words('english')\n",
    "stopwords.append('news') #news is another word that should be considered as stopwords in our specific case\n",
    "print(stopwords)"
   ]
  },
  {
   "cell_type": "markdown",
   "metadata": {
    "id": "YTBYnE-8Kkzc"
   },
   "source": [
    "Next, we write a function that takes the dataframe from the csv file and one category as input and returns a filtered dataframe containing a tag and a combination of snippet and headline as input. This was specified as per Task 2 in the assignment brief. The function also carries out preprocessing and prints the change in word count because of it."
   ]
  },
  {
   "cell_type": "code",
   "execution_count": 12,
   "metadata": {
    "id": "GpJspLxggeYQ"
   },
   "outputs": [],
   "source": [
    "def individualdataframes(rawdf,category):\n",
    "    df = rawdf.loc[rawdf['Category'] == category].copy() #creating a copy so that slice issue is not there\n",
    "    df.reset_index(drop=True, inplace=True) #reseting the index\n",
    "    df.index=df.index+1 \n",
    "    df['input'] = df['Title'] +\" \"+ df['Snippet'] #combining title and snippet and then we drop remaining columns\n",
    "    del df['Title']\n",
    "    del df['Snippet']\n",
    "    del df['Category']\n",
    "    if category=='UK-News': #adding a tag column 0-UK News, 1-Music and -1 - books\n",
    "        df['Tag'] = [0]*len(df)\n",
    "    elif category=='Music':\n",
    "        df['Tag'] = [1]*len(df)\n",
    "    elif category == 'Books':\n",
    "        df['Tag'] = [-1]*len(df)\n",
    "    else:\n",
    "        return \"Thats a rip\"\n",
    "    print('Word count before cleaning:')\n",
    "    print(df['input'].apply(lambda x: len(x.split(' '))).sum())\n",
    "    df['input'] = df['input'].apply(clean_text)\n",
    "    df.drop_duplicates(inplace=True)\n",
    "    special_character_remover = re.compile('[/(){}\\[\\]\\|@,;]')\n",
    "    extra_symbol_remover = re.compile('[^0-9a-z #+_]')\n",
    "    print('Word count after cleaning:')\n",
    "    print(df['input'].apply(lambda x: len(x.split(' '))).sum())\n",
    "    return df"
   ]
  },
  {
   "cell_type": "markdown",
   "metadata": {
    "id": "q5xpxr4ALAXt"
   },
   "source": [
    "Next, we call the function individually for each category. This gives us three different dataframes specific to each category having unique tags and inputs"
   ]
  },
  {
   "cell_type": "code",
   "execution_count": 13,
   "metadata": {
    "colab": {
     "base_uri": "https://localhost:8080/"
    },
    "id": "2KDw66sQgeYQ",
    "outputId": "56af1dbb-6ec3-488a-db8f-55007c4e02db"
   },
   "outputs": [
    {
     "name": "stdout",
     "output_type": "stream",
     "text": [
      "Word count before cleaning:\n",
      "66547\n",
      "Word count after cleaning:\n",
      "42564\n",
      "We have a total of  1795 dataset for UK News Category\n",
      "Word count before cleaning:\n",
      "67833\n",
      "Word count after cleaning:\n",
      "45069\n",
      "We have a total of  1797 dataset for music News Category\n",
      "Word count before cleaning:\n",
      "70286\n",
      "Word count after cleaning:\n",
      "44168\n",
      "We have a total of  1821 dataset for books News Category\n",
      "                                               input  Tag\n",
      "1  lets resolve reconnect says welby new year mes...  0.0\n",
      "2  visa applications home office refuses reveal h...  0.0\n",
      "3  victims nye surrey road crash ba cabin crew le...  0.0\n",
      "4  man held suspicion double murder bodies found ...  0.0\n",
      "5  antiislamic slogans spraypainted near mosque b...  0.0\n"
     ]
    }
   ],
   "source": [
    "ruknews_doc=individualdataframes(rawdf,'UK-News')\n",
    "print('We have a total of ',len(ruknews_doc),'dataset for UK News Category') #counting the number of rows for each category\n",
    "rmusic_doc=individualdataframes(rawdf,'Music')\n",
    "print('We have a total of ',len(rmusic_doc),'dataset for music News Category')\n",
    "rbooks_doc=individualdataframes(rawdf,'Books')\n",
    "print('We have a total of ',len(rbooks_doc),'dataset for books News Category')\n",
    "raw_doc=ruknews_doc+rmusic_doc+rbooks_doc\n",
    "print(raw_doc.head())"
   ]
  },
  {
   "cell_type": "markdown",
   "metadata": {
    "id": "BjxI1bGwa7g_"
   },
   "source": [
    "Next, we create a function that based on the input pair which produces the documents for binary classification as per the requirements mentioned in the assignment brief. There is a combination of title and snippet marked as input and a tag describing which category in the pair does the data belong to."
   ]
  },
  {
   "cell_type": "code",
   "execution_count": 14,
   "metadata": {
    "id": "avARjatggeYR"
   },
   "outputs": [],
   "source": [
    "def binaryclassificationdataframes(in1,in2):\n",
    "    df = pd.DataFrame(columns = ['input', 'Tag'])\n",
    "    if (in1==1 and in2==2): #making unique individual pairs\n",
    "        df=pd.concat([ruknews_doc, rmusic_doc], ignore_index=True, sort=False)\n",
    "    elif in1==2 and in2==3:\n",
    "        df=pd.concat([rmusic_doc, rbooks_doc], ignore_index=True, sort=False)\n",
    "        df['Tag']=(df['Tag']-1)/2 #calculations to ensure that tags are always 0 and 1\n",
    "        df['Tag'] = df['Tag'].apply(np.int64)\n",
    "        df['Tag'] = df['Tag'].abs()\n",
    "    elif in1==3 and in2==1:\n",
    "        df=pd.concat([rbooks_doc, ruknews_doc], ignore_index=True, sort=False)\n",
    "        df['Tag']=(df['Tag']+1)\n",
    "        df['Tag'] = df['Tag'].apply(np.int64)\n",
    "    return df"
   ]
  },
  {
   "cell_type": "markdown",
   "metadata": {
    "id": "mfxODa6hbbDX"
   },
   "source": [
    "Let us check the output of the function once."
   ]
  },
  {
   "cell_type": "code",
   "execution_count": 15,
   "metadata": {
    "colab": {
     "base_uri": "https://localhost:8080/"
    },
    "id": "KovvIoOJChbg",
    "outputId": "06c95982-94ab-4b83-e291-e13f764f9184"
   },
   "outputs": [
    {
     "name": "stdout",
     "output_type": "stream",
     "text": [
      "                                                  input  Tag\n",
      "0     mariah careys twitter account hacked new years...    0\n",
      "1     woodford folk festival review +aoiagact muchne...    0\n",
      "2     tara erraught james baillieu review +aoiagact ...    0\n",
      "3     something weird works tiktok write pop smash 2...    0\n",
      "4     tracks week reviewed raye usher lil uzi vert r...    0\n",
      "...                                                 ...  ...\n",
      "3613  death francis bacon max porter review +aoiagac...    1\n",
      "3614  eula biss review +aoiagact saturated capitalis...    1\n",
      "3615  beginners tom vanderbilt review +aoiagact neve...    1\n",
      "3616  humaning nice idea ridiculous corporate buzzwo...    1\n",
      "3617  little scratch rebecca watson review daringly ...    1\n",
      "\n",
      "[3618 rows x 2 columns]\n"
     ]
    }
   ],
   "source": [
    "print(binaryclassificationdataframes(2,3))"
   ]
  },
  {
   "cell_type": "markdown",
   "metadata": {
    "id": "mGvurTogbjvO"
   },
   "source": [
    "Now that pre processing and paired dataset preparation is complete, we define a function that calls the previous one inside it and then goes for binary clsasification using keras model. The output is given in terms of accuracy score and confusion matrix."
   ]
  },
  {
   "cell_type": "code",
   "execution_count": 16,
   "metadata": {
    "id": "MSh-Tp_yg0lx"
   },
   "outputs": [],
   "source": [
    "def kerasmodel(in1,in2): #keras model training function\n",
    "    df=binaryclassificationdataframes(in1,in2) #creating input dataset\n",
    "    if (in1==1 and in2==2):\n",
    "        print(\"Working on UK-News and Music\")\n",
    "        xtick=['UK-News','Music'] #creating labels for confusion matrix in each case\n",
    "    elif in1==2 and in2==3:\n",
    "        print(\"Working on Music and Books\")\n",
    "        xtick=['Music','Books']\n",
    "    elif in1==3 and in2==1:\n",
    "        print(\"Working on Books and UK-News \")\n",
    "        xtick=['Books','UK-News']\n",
    "    train=df.sample(frac=0.5,random_state=200) #random state is a seed value to produce same results every time\n",
    "    test=df.drop(train.index) \n",
    "    training_sentences = train['input'].to_list() #converting to list as the functions accept list as input not dataframes\n",
    "    training_labels = train['Tag'].to_list()\n",
    "    test_sentences = test['input'].to_list()\n",
    "    test_labels = test['Tag'].to_list()\n",
    "    training_sentences_final = np.array(training_sentences) #converting to numpy arrays for easier manipulation\n",
    "    test_sentences_final = np.array(test_sentences)\n",
    "    training_labels_final = np.array(training_labels)\n",
    "    test_labels_final = np.array(test_labels)\n",
    "    #specifications for the model\n",
    "    vocab_size=10000 #size of voacbulary\n",
    "    embedding_dim = 16\n",
    "    max_length = 120\n",
    "    trunc_type ='post'\n",
    "    oov_tokn = \"<OOV>\"\n",
    "    tokenizer = Tokenizer(num_words = vocab_size, oov_token =oov_tokn ) #converting text to numeric representation\n",
    "    tokenizer.fit_on_texts(training_sentences) #fitting the tokenizer\n",
    "    word_index = tokenizer.word_index\n",
    "    sequence = tokenizer.texts_to_sequences(training_sentences)\n",
    "    padded = pad_sequences(sequence, maxlen = max_length, truncating =trunc_type ) #padding\n",
    "    testing_sequence = tokenizer.texts_to_sequences(test_sentences)\n",
    "    testing_padded = pad_sequences(testing_sequence, maxlen = max_length)\n",
    "    model = keras.Sequential([ #generating the model\n",
    "        keras.layers.Embedding(vocab_size, embedding_dim, input_length=max_length),\n",
    "        keras.layers.Flatten(),\n",
    "        keras.layers.Dense(128, activation='relu'),\n",
    "        keras.layers.Dense(32, activation='relu'),\n",
    "        keras.layers.Dense(1, activation='sigmoid')\n",
    "    ])\n",
    "    model.compile(loss ='binary_crossentropy', optimizer='adam', metrics = ['accuracy']) #compilation\n",
    "    model.fit(padded,\n",
    "          training_labels_final,\n",
    "          epochs = 5,\n",
    "          validation_data = (testing_padded, test_labels_final)\n",
    "         )\n",
    "    y_predicted = model.predict(testing_padded) #predicting\n",
    "    y_predicted = np.where(y_predicted > 0.5, 1, 0)\n",
    "    cf_matrix = confusion_matrix(test_labels_final, y_predicted) #creating a confusion matrix\n",
    "    sns.heatmap(cf_matrix, annot=True,xticklabels=xtick,yticklabels=xtick) #visualizing confusion matrix\n",
    "    print('The accuracy is:',accuracy_score(test_labels_final, y_predicted)) #printing accuracy"
   ]
  },
  {
   "cell_type": "markdown",
   "metadata": {
    "id": "0SN1S8X8dZhA"
   },
   "source": [
    "Another model that we train in a similar fashion is the linear regression via a pipeline. Outputs are again the same. We will write another function for logistic regression model."
   ]
  },
  {
   "cell_type": "code",
   "execution_count": 17,
   "metadata": {
    "id": "oyG0Y7DSOrtt"
   },
   "outputs": [],
   "source": [
    "def binarylogregress(in1,in2):#logistic regression model training function\n",
    "    df=binaryclassificationdataframes(in1,in2) #creating input dataset\n",
    "    if (in1==1 and in2==2):\n",
    "        print(\"Working on UK-News and Music\")\n",
    "        xtick=['UK-News','Music']  #creating labels for confusion matrix in each case\n",
    "    elif in1==2 and in2==3:\n",
    "        print(\"Working on Music and Books\")\n",
    "        xtick=['Music','Books']\n",
    "    elif in1==3 and in2==1:\n",
    "        print(\"Working on Books and UK-News \")\n",
    "        xtick=['Books','UK-News']\n",
    "    from sklearn.model_selection import train_test_split \n",
    "    X = df.input\n",
    "    y = df.Tag\n",
    "    X_train, X_test, y_train, y_test = train_test_split(X, y, test_size=0.3, random_state = 42) #splitting into test and train subsets with random state for reporducibility\n",
    "    from sklearn.linear_model import LogisticRegression\n",
    "    from sklearn.pipeline import Pipeline\n",
    "    from sklearn.feature_extraction.text import TfidfTransformer\n",
    "    lr = Pipeline([('vect', CountVectorizer()), #creating the pipleine of transforms\n",
    "                   ('tfidf', TfidfTransformer()),\n",
    "                   ('clf', LogisticRegression()),\n",
    "                  ])\n",
    "\n",
    "    lr.fit(X_train,y_train) #fitting the model\n",
    "    y_pred1 = lr.predict(X_test) #predicting the model\n",
    "    print(f\"Accuracy of the model is : {accuracy_score(y_pred1,y_test)}\") #accuracy score\n",
    "    print('The confusion matrix of the model is:') #confusion matrix\n",
    "    cf_matrix = confusion_matrix(y_pred1, y_test)\n",
    "    sns.heatmap(cf_matrix, annot=True,xticklabels=xtick,yticklabels=xtick)"
   ]
  },
  {
   "cell_type": "markdown",
   "metadata": {
    "id": "58xbYSs8duyv"
   },
   "source": [
    "Now for each unique pair we call the kerasmodel function as well as the linear regression function and then we compare the results to conclude."
   ]
  },
  {
   "cell_type": "code",
   "execution_count": 18,
   "metadata": {
    "colab": {
     "base_uri": "https://localhost:8080/",
     "height": 469
    },
    "id": "35iQ0HnljU-U",
    "outputId": "a3ade380-8aa4-4b78-cc95-2bcdd72870eb"
   },
   "outputs": [
    {
     "name": "stdout",
     "output_type": "stream",
     "text": [
      "Working on UK-News and Music\n",
      "Epoch 1/5\n",
      "57/57 [==============================] - 2s 18ms/step - loss: 0.6814 - accuracy: 0.5535 - val_loss: 0.5115 - val_accuracy: 0.8090\n",
      "Epoch 2/5\n",
      "57/57 [==============================] - 1s 12ms/step - loss: 0.3262 - accuracy: 0.9034 - val_loss: 0.1752 - val_accuracy: 0.9304\n",
      "Epoch 3/5\n",
      "57/57 [==============================] - 1s 9ms/step - loss: 0.0194 - accuracy: 0.9971 - val_loss: 0.1497 - val_accuracy: 0.9421\n",
      "Epoch 4/5\n",
      "57/57 [==============================] - 1s 10ms/step - loss: 0.0023 - accuracy: 1.0000 - val_loss: 0.1481 - val_accuracy: 0.9410\n",
      "Epoch 5/5\n",
      "57/57 [==============================] - 1s 9ms/step - loss: 0.0013 - accuracy: 1.0000 - val_loss: 0.1498 - val_accuracy: 0.9438\n",
      "The accuracy is: 0.9437639198218263\n"
     ]
    },
    {
     "data": {
      "image/png": "[encoded data removed]",
      "text/plain": [
       "<Figure size 432x288 with 2 Axes>"
      ]
     },
     "metadata": {
      "needs_background": "light",
      "tags": []
     },
     "output_type": "display_data"
    }
   ],
   "source": [
    "kerasmodel(1,2)"
   ]
  },
  {
   "cell_type": "code",
   "execution_count": 19,
   "metadata": {
    "colab": {
     "base_uri": "https://localhost:8080/",
     "height": 469
    },
    "id": "zPa2iPpMkp78",
    "outputId": "cce93c73-f9e7-474e-87c6-519764a09d52"
   },
   "outputs": [
    {
     "name": "stdout",
     "output_type": "stream",
     "text": [
      "Working on Music and Books\n",
      "Epoch 1/5\n",
      "57/57 [==============================] - 1s 13ms/step - loss: 0.6958 - accuracy: 0.4678 - val_loss: 0.6906 - val_accuracy: 0.5102\n",
      "Epoch 2/5\n",
      "57/57 [==============================] - 1s 9ms/step - loss: 0.6190 - accuracy: 0.7278 - val_loss: 0.3653 - val_accuracy: 0.8519\n",
      "Epoch 3/5\n",
      "57/57 [==============================] - 1s 9ms/step - loss: 0.0651 - accuracy: 0.9918 - val_loss: 0.2969 - val_accuracy: 0.8756\n",
      "Epoch 4/5\n",
      "57/57 [==============================] - 1s 9ms/step - loss: 0.0041 - accuracy: 1.0000 - val_loss: 0.2930 - val_accuracy: 0.8762\n",
      "Epoch 5/5\n",
      "57/57 [==============================] - 1s 9ms/step - loss: 0.0011 - accuracy: 1.0000 - val_loss: 0.2954 - val_accuracy: 0.8745\n",
      "The accuracy is: 0.8745163073521283\n"
     ]
    },
    {
     "data": {
      "image/png": "[encoded data removed]",
      "text/plain": [
       "<Figure size 432x288 with 2 Axes>"
      ]
     },
     "metadata": {
      "needs_background": "light",
      "tags": []
     },
     "output_type": "display_data"
    }
   ],
   "source": [
    "kerasmodel(2,3)"
   ]
  },
  {
   "cell_type": "code",
   "execution_count": 20,
   "metadata": {
    "colab": {
     "base_uri": "https://localhost:8080/",
     "height": 469
    },
    "id": "eyKtCd6EkqW6",
    "outputId": "b3cca0bb-dd6c-4104-8174-9c5a6d81fefa"
   },
   "outputs": [
    {
     "name": "stdout",
     "output_type": "stream",
     "text": [
      "Working on Books and UK-News \n",
      "Epoch 1/5\n",
      "57/57 [==============================] - 1s 13ms/step - loss: 0.6953 - accuracy: 0.4902 - val_loss: 0.6763 - val_accuracy: 0.6510\n",
      "Epoch 2/5\n",
      "57/57 [==============================] - 1s 9ms/step - loss: 0.5892 - accuracy: 0.7753 - val_loss: 0.2432 - val_accuracy: 0.9198\n",
      "Epoch 3/5\n",
      "57/57 [==============================] - 1s 10ms/step - loss: 0.0737 - accuracy: 0.9864 - val_loss: 0.2505 - val_accuracy: 0.9004\n",
      "Epoch 4/5\n",
      "57/57 [==============================] - 1s 9ms/step - loss: 0.0142 - accuracy: 0.9974 - val_loss: 0.1629 - val_accuracy: 0.9381\n",
      "Epoch 5/5\n",
      "57/57 [==============================] - 1s 10ms/step - loss: 0.0025 - accuracy: 1.0000 - val_loss: 0.1693 - val_accuracy: 0.9458\n",
      "The accuracy is: 0.9457964601769911\n"
     ]
    },
    {
     "data": {
      "image/png": "[encoded data removed]",
      "text/plain": [
       "<Figure size 432x288 with 2 Axes>"
      ]
     },
     "metadata": {
      "needs_background": "light",
      "tags": []
     },
     "output_type": "display_data"
    }
   ],
   "source": [
    "kerasmodel(3,1)"
   ]
  },
  {
   "cell_type": "code",
   "execution_count": 21,
   "metadata": {
    "colab": {
     "base_uri": "https://localhost:8080/",
     "height": 316
    },
    "id": "7lHNCz_DPxjH",
    "outputId": "076d9b82-1138-4391-8b95-c0df3c2573a2"
   },
   "outputs": [
    {
     "name": "stdout",
     "output_type": "stream",
     "text": [
      "Working on UK-News and Music\n",
      "Accuracy of the model is : 0.9489795918367347\n",
      "The confusion matrix of the model is:\n"
     ]
    },
    {
     "data": {
      "image/png": "[encoded data removed]",
      "text/plain": [
       "<Figure size 432x288 with 2 Axes>"
      ]
     },
     "metadata": {
      "needs_background": "light",
      "tags": []
     },
     "output_type": "display_data"
    }
   ],
   "source": [
    "binarylogregress(1,2)"
   ]
  },
  {
   "cell_type": "code",
   "execution_count": 22,
   "metadata": {
    "colab": {
     "base_uri": "https://localhost:8080/",
     "height": 318
    },
    "id": "_AGj4fusQNWt",
    "outputId": "06238d5d-f4fe-4999-feee-79e652daaa97"
   },
   "outputs": [
    {
     "name": "stdout",
     "output_type": "stream",
     "text": [
      "Working on Music and Books\n",
      "Accuracy of the model is : 0.9088397790055248\n",
      "The confusion matrix of the model is:\n"
     ]
    },
    {
     "data": {
      "image/png": "[encoded data removed]",
      "text/plain": [
       "<Figure size 432x288 with 2 Axes>"
      ]
     },
     "metadata": {
      "needs_background": "light",
      "tags": []
     },
     "output_type": "display_data"
    }
   ],
   "source": [
    "binarylogregress(2,3)"
   ]
  },
  {
   "cell_type": "code",
   "execution_count": 23,
   "metadata": {
    "colab": {
     "base_uri": "https://localhost:8080/",
     "height": 316
    },
    "id": "ZMcDm3-tQRzN",
    "outputId": "c28b8d30-b944-42dc-91c4-53cf0b80ca15"
   },
   "outputs": [
    {
     "name": "stdout",
     "output_type": "stream",
     "text": [
      "Working on Books and UK-News \n",
      "Accuracy of the model is : 0.9511520737327189\n",
      "The confusion matrix of the model is:\n"
     ]
    },
    {
     "data": {
      "image/png": "[encoded data removed]",
      "text/plain": [
       "<Figure size 432x288 with 2 Axes>"
      ]
     },
     "metadata": {
      "needs_background": "light",
      "tags": []
     },
     "output_type": "display_data"
    }
   ],
   "source": [
    "binarylogregress(3,1)"
   ]
  },
  {
   "cell_type": "markdown",
   "metadata": {
    "id": "QCG8pQWAd5CP"
   },
   "source": [
    "In Conclusion, both the models have shown good amount of accuracy although binary logistic regression has shown superior results overall. So now we write a function that can run a 100 instances of the same model and then we analyze the average accuracy. In principle this can also be done using a function called cross_val_score but we chose to write one of our own. The difference is our function doesn't follow a pattern amongst its different instances."
   ]
  },
  {
   "cell_type": "code",
   "execution_count": 24,
   "metadata": {
    "id": "8cm1fBuME2Gk"
   },
   "outputs": [],
   "source": [
    "def binary_eval(in1,in2): #function for cross validation\n",
    "  df=binaryclassificationdataframes(in1,in2)\n",
    "  if (in1==1 and in2==2):\n",
    "      print(\"Evaluating on UK-News and Music\")\n",
    "  elif in1==2 and in2==3:\n",
    "      print(\"Evaluating on Music and Books\")\n",
    "  elif in1==3 and in2==1:\n",
    "      print(\"Evaluating on Books and UK-News \")\n",
    "  from sklearn.model_selection import train_test_split\n",
    "  from sklearn.linear_model import LogisticRegression\n",
    "  from sklearn.pipeline import Pipeline\n",
    "  from sklearn.feature_extraction.text import TfidfTransformer\n",
    "  import sys\n",
    "  acc_score=[] # matrix for storing accuracy score for each instance\n",
    "  c_mat=[] #matrix for storing confusion matrix for each instance\n",
    "  X = df.input\n",
    "  y = df.Tag\n",
    "  for i in range(100):  #100 instances of random splitting and then fitting and predicting\n",
    "    X_train, X_test, y_train, y_test = train_test_split(X, y, test_size=0.3)\n",
    "    pipe = Pipeline([('vect', CountVectorizer()),\n",
    "                   ('tfidf', TfidfTransformer()),\n",
    "                   ('clf', LogisticRegression()),\n",
    "                  ])\n",
    "\n",
    "    pipe.fit(X_train,y_train)\n",
    "    y_pred = pipe.predict(X_test)\n",
    "    acc_score.append(accuracy_score(y_pred,y_test)) #appending accuracy score\n",
    "    c_mat.append(confusion_matrix(y_pred,y_test)) #appending confusion matrix\n",
    "    sys.stdout.write(\"\\rPercentage done: %i \" % (i+1)) #printing the state of the loop\n",
    "    sys.stdout.flush() #flushing out to preserve console\n",
    "  return(sum(acc_score)/100,sum(c_mat)/100)  #returning mean accuracy score and confusion matrix"
   ]
  },
  {
   "cell_type": "markdown",
   "metadata": {
    "id": "B37rw7HfGmov"
   },
   "source": [
    "The inputs can be changed as and when needed to ensure right combination of unique input categories are evaluated. "
   ]
  },
  {
   "cell_type": "code",
   "execution_count": 25,
   "metadata": {
    "colab": {
     "base_uri": "https://localhost:8080/",
     "height": 333
    },
    "id": "JlyN8A4mG1dd",
    "outputId": "595f57c2-120c-45c5-fbf0-effc20605142"
   },
   "outputs": [
    {
     "name": "stdout",
     "output_type": "stream",
     "text": [
      "Evaluating on UK-News and Music\n",
      "Percentage done: 100 The average accuracy for 100 isntances is: 0.9465955473098333\n",
      "The average confusion matrix for 100 instances is:\n"
     ]
    },
    {
     "data": {
      "text/plain": [
       "<matplotlib.axes._subplots.AxesSubplot at 0x7f2c2046db90>"
      ]
     },
     "execution_count": 25,
     "metadata": {
      "tags": []
     },
     "output_type": "execute_result"
    },
    {
     "data": {
      "image/png": "[encoded data removed]",
      "text/plain": [
       "<Figure size 432x288 with 2 Axes>"
      ]
     },
     "metadata": {
      "needs_background": "light",
      "tags": []
     },
     "output_type": "display_data"
    }
   ],
   "source": [
    "h=binary_eval(1,2)\n",
    "print(\"The average accuracy for 100 isntances is:\",h[0])\n",
    "print('The average confusion matrix for 100 instances is:')\n",
    "sns.heatmap(h[1], annot=True)"
   ]
  },
  {
   "cell_type": "code",
   "execution_count": 26,
   "metadata": {
    "colab": {
     "base_uri": "https://localhost:8080/",
     "height": 335
    },
    "id": "HlnFJBcueoqo",
    "outputId": "6396073a-6137-4d1e-e2ef-3d31a84c0d3e"
   },
   "outputs": [
    {
     "name": "stdout",
     "output_type": "stream",
     "text": [
      "Evaluating on Music and Books\n",
      "Percentage done: 100 The average accuracy for 100 isntances is: 0.9224861878453042\n",
      "The average confusion matrix for 100 instances is:\n"
     ]
    },
    {
     "data": {
      "text/plain": [
       "<matplotlib.axes._subplots.AxesSubplot at 0x7f2c2112c050>"
      ]
     },
     "execution_count": 26,
     "metadata": {
      "tags": []
     },
     "output_type": "execute_result"
    },
    {
     "data": {
      "image/png": "[encoded data removed]",
      "text/plain": [
       "<Figure size 432x288 with 2 Axes>"
      ]
     },
     "metadata": {
      "needs_background": "light",
      "tags": []
     },
     "output_type": "display_data"
    }
   ],
   "source": [
    "h=binary_eval(2,3)\n",
    "print(\"The average accuracy for 100 isntances is:\",h[0])\n",
    "print('The average confusion matrix for 100 instances is:')\n",
    "sns.heatmap(h[1], annot=True)"
   ]
  },
  {
   "cell_type": "code",
   "execution_count": 27,
   "metadata": {
    "colab": {
     "base_uri": "https://localhost:8080/",
     "height": 333
    },
    "id": "n3E-izAvepLi",
    "outputId": "9682e877-c440-44b4-fcad-efbc235ea0d8"
   },
   "outputs": [
    {
     "name": "stdout",
     "output_type": "stream",
     "text": [
      "Evaluating on Books and UK-News \n",
      "Percentage done: 100 The average accuracy for 100 isntances is: 0.9433456221198155\n",
      "The average confusion matrix for 100 instances is:\n"
     ]
    },
    {
     "data": {
      "text/plain": [
       "<matplotlib.axes._subplots.AxesSubplot at 0x7f2c1fc9ef90>"
      ]
     },
     "execution_count": 27,
     "metadata": {
      "tags": []
     },
     "output_type": "execute_result"
    },
    {
     "data": {
      "image/png": "[encoded data removed]",
      "text/plain": [
       "<Figure size 432x288 with 2 Axes>"
      ]
     },
     "metadata": {
      "needs_background": "light",
      "tags": []
     },
     "output_type": "display_data"
    }
   ],
   "source": [
    "h=binary_eval(3,1)\n",
    "print(\"The average accuracy for 100 isntances is:\",h[0])\n",
    "print('The average confusion matrix for 100 instances is:')\n",
    "sns.heatmap(h[1], annot=True)"
   ]
  },
  {
   "cell_type": "markdown",
   "metadata": {
    "id": "FjgsVPnbNDic"
   },
   "source": [
    "### Evaluation Results and Conclusion"
   ]
  },
  {
   "cell_type": "markdown",
   "metadata": {
    "id": "AyVokARYNLW9"
   },
   "source": [
    "So in case of Binary classification we evaluated using several appraoches including but not limited to cross validation, confusion matrix and accuracy score. Both the models trained have shown good results. Just so that the notebook doesnt become very lengthy we havent evaluated all the classifiers, just the one that showed better results. Otherwise an additional 3 combinations would have to be evaluated for three different unique pairs. In terms of single instance, keras model has shown an average accuracy of 92.426% where as logistic regression model has shown an average acuracy of 93.626%. When cross validating the individual accuracy for three unique pairs were 94.69%, 92.45% and 94.30%. These values are very high and raise the suspicion of overfitting. Just to be safe, we also verified the models using confusion matrix and we observed very high sensitivity and specificity which means overfitting isnt happening. Thus we can conclude that we have successfully completed all the steps for Task 2."
   ]
  },
  {
   "cell_type": "markdown",
   "metadata": {
    "id": "Jw2W7HHklaST"
   },
   "source": [
    "# **Task 3**: Multi class Classification"
   ]
  },
  {
   "cell_type": "markdown",
   "metadata": {
    "id": "eTvBDYl7mdAR"
   },
   "source": [
    "Initial steps in case of Multiple classification are same as Binary CLassification. We would read the CSV file, clean it up and prepare for multiple classification. We will again combine snippet and title into a single column marked input and the category column will work by itself as the tag. We drop any useless columns and confirm the three different categories."
   ]
  },
  {
   "cell_type": "code",
   "execution_count": 28,
   "metadata": {
    "colab": {
     "base_uri": "https://localhost:8080/"
    },
    "id": "jvTnyOLMlk0r",
    "outputId": "c142e412-6c63-4367-d62a-155edeac0c91"
   },
   "outputs": [
    {
     "name": "stdout",
     "output_type": "stream",
     "text": [
      "Total number of categories: 4\n",
      "They are:\n"
     ]
    },
    {
     "data": {
      "text/plain": [
       "array(['UK-News', 'Books', 'Music', 'Category'], dtype=object)"
      ]
     },
     "execution_count": 28,
     "metadata": {
      "tags": []
     },
     "output_type": "execute_result"
    }
   ],
   "source": [
    "df = pd.read_csv(\"allnews.csv\") # converting the stored file from task 1 into a dataframe\n",
    "df['input'] = df['Title'] +\" \"+ df['Snippet'] #combining title and snippet\n",
    "del df['Title']\n",
    "del df['Snippet']\n",
    "print('Total number of categories:',len(df.Category.value_counts())) #counting unique values in categories column\n",
    "print('They are:')\n",
    "df.Category.unique() #printing unique values in categories column"
   ]
  },
  {
   "cell_type": "markdown",
   "metadata": {
    "id": "jkn95wTOmtSB"
   },
   "source": [
    "We will check for the presence of any duplicates just to be on the safe side."
   ]
  },
  {
   "cell_type": "code",
   "execution_count": 41,
   "metadata": {
    "colab": {
     "base_uri": "https://localhost:8080/"
    },
    "id": "Oceh19uan4Qc",
    "outputId": "5cb4b7f2-fe96-4cde-d84b-39fca91d0ca0"
   },
   "outputs": [
    {
     "name": "stdout",
     "output_type": "stream",
     "text": [
      "(5414, 2)\n",
      "(5414, 2)\n"
     ]
    }
   ],
   "source": [
    "print(df.shape)\n",
    "df.drop_duplicates(inplace=True)\n",
    "print(df.shape)"
   ]
  },
  {
   "cell_type": "markdown",
   "metadata": {
    "id": "prXSSnA4m3bQ"
   },
   "source": [
    "No duplicates present. Now lets check the word count of the corpus. This should drop considerably post pre processing which is something we have already observed in case of Binary Classification."
   ]
  },
  {
   "cell_type": "code",
   "execution_count": 30,
   "metadata": {
    "colab": {
     "base_uri": "https://localhost:8080/"
    },
    "id": "Zf1ibywMoNzT",
    "outputId": "1d7fe798-d044-4f95-9795-a1443aba9184"
   },
   "outputs": [
    {
     "name": "stdout",
     "output_type": "stream",
     "text": [
      "204668 words in corpus\n"
     ]
    }
   ],
   "source": [
    "print(df['input'].apply(lambda x: len(x.split(' '))).sum(),'words in corpus') # counting number of words"
   ]
  },
  {
   "cell_type": "markdown",
   "metadata": {
    "id": "hNZuXzVGocy5"
   },
   "source": [
    "We carry out same preprocessing approach. We remove special characters as well as symbols and include the word 'news' in the nltk stopwords and then use it. We will just confifrm the same stopwords and then apply these steps on the corpus."
   ]
  },
  {
   "cell_type": "code",
   "execution_count": 31,
   "metadata": {
    "colab": {
     "base_uri": "https://localhost:8080/"
    },
    "id": "wXdFFPNApg2E",
    "outputId": "3ef9881e-95d3-4188-e019-afcb6936cccf"
   },
   "outputs": [
    {
     "name": "stdout",
     "output_type": "stream",
     "text": [
      "['i', 'me', 'my', 'myself', 'we', 'our', 'ours', 'ourselves', 'you', \"you're\", \"you've\", \"you'll\", \"you'd\", 'your', 'yours', 'yourself', 'yourselves', 'he', 'him', 'his', 'himself', 'she', \"she's\", 'her', 'hers', 'herself', 'it', \"it's\", 'its', 'itself', 'they', 'them', 'their', 'theirs', 'themselves', 'what', 'which', 'who', 'whom', 'this', 'that', \"that'll\", 'these', 'those', 'am', 'is', 'are', 'was', 'were', 'be', 'been', 'being', 'have', 'has', 'had', 'having', 'do', 'does', 'did', 'doing', 'a', 'an', 'the', 'and', 'but', 'if', 'or', 'because', 'as', 'until', 'while', 'of', 'at', 'by', 'for', 'with', 'about', 'against', 'between', 'into', 'through', 'during', 'before', 'after', 'above', 'below', 'to', 'from', 'up', 'down', 'in', 'out', 'on', 'off', 'over', 'under', 'again', 'further', 'then', 'once', 'here', 'there', 'when', 'where', 'why', 'how', 'all', 'any', 'both', 'each', 'few', 'more', 'most', 'other', 'some', 'such', 'no', 'nor', 'not', 'only', 'own', 'same', 'so', 'than', 'too', 'very', 's', 't', 'can', 'will', 'just', 'don', \"don't\", 'should', \"should've\", 'now', 'd', 'll', 'm', 'o', 're', 've', 'y', 'ain', 'aren', \"aren't\", 'couldn', \"couldn't\", 'didn', \"didn't\", 'doesn', \"doesn't\", 'hadn', \"hadn't\", 'hasn', \"hasn't\", 'haven', \"haven't\", 'isn', \"isn't\", 'ma', 'mightn', \"mightn't\", 'mustn', \"mustn't\", 'needn', \"needn't\", 'shan', \"shan't\", 'shouldn', \"shouldn't\", 'wasn', \"wasn't\", 'weren', \"weren't\", 'won', \"won't\", 'wouldn', \"wouldn't\", 'news']\n"
     ]
    }
   ],
   "source": [
    "special_character_remover = re.compile('[/(){}\\[\\]\\|@,;]') #removing special characters\n",
    "extra_symbol_remover = re.compile('[^0-9a-z #+_]') #removing extra symbols\n",
    "stopwords = nltk.corpus.stopwords.words('english') # stop words\n",
    "stopwords.append('news')\n",
    "print(stopwords)"
   ]
  },
  {
   "cell_type": "markdown",
   "metadata": {
    "id": "V6FJDnmep_QB"
   },
   "source": [
    "Next, we make a function and apply those steps on the corpus."
   ]
  },
  {
   "cell_type": "code",
   "execution_count": 32,
   "metadata": {
    "id": "2r5ePrFHqHok"
   },
   "outputs": [],
   "source": [
    "def clean_text(text): #function for pre processing\n",
    "    text = text.lower() #converting entire corpus to lowercase\n",
    "    text = special_character_remover.sub(' ', text) #substituting with a space\n",
    "    text = extra_symbol_remover.sub('', text)\n",
    "    text = ' '.join(word for word in text.split() if word not in stopwords)\n",
    "    return text\n",
    "    \n",
    "\n",
    "df['input'] = df['input'].apply(clean_text) # applying the preprocessing"
   ]
  },
  {
   "cell_type": "markdown",
   "metadata": {
    "id": "8LZGT87mqHDQ"
   },
   "source": [
    "Now that all the pre processing is done, we confirm the word count once again and then we start training the models. We would check three different models and compare their accuracy. We will use accuracy score and confusion matrix for it."
   ]
  },
  {
   "cell_type": "code",
   "execution_count": 33,
   "metadata": {
    "colab": {
     "base_uri": "https://localhost:8080/"
    },
    "id": "qgEXiF-1r9HD",
    "outputId": "eb0fee52-1103-4174-f9e7-9129ea6b96e9"
   },
   "outputs": [
    {
     "name": "stdout",
     "output_type": "stream",
     "text": [
      "131803 words in the corpus\n"
     ]
    }
   ],
   "source": [
    "print(df['input'].apply(lambda x: len(x.split(' '))).sum(),'words in the corpus') #counting words"
   ]
  },
  {
   "cell_type": "markdown",
   "metadata": {
    "id": "MpB9bjONsG9K"
   },
   "source": [
    "Now that is a reduction of a lot of words. But they were either words lost in encoding or stop words so they had to be removed. Otheriwse, they wouldnt have added any value to the algorithm and could have resulted in overfitting or bogus results. First, we start by splitting the dataset into training and testing. We use a random state number just to ensure we get same results every time. Later on we will run several instance of it without a random state numberso that we can evaluate uniformity but for now we do it just once."
   ]
  },
  {
   "cell_type": "code",
   "execution_count": 34,
   "metadata": {
    "colab": {
     "base_uri": "https://localhost:8080/"
    },
    "id": "ca-gKGHlsMK1",
    "outputId": "4ba186c0-e814-44bc-f242-3909fd2ac6d5"
   },
   "outputs": [
    {
     "data": {
      "text/plain": [
       "((3789,), (1625,), (3789,), (1625,))"
      ]
     },
     "execution_count": 34,
     "metadata": {
      "tags": []
     },
     "output_type": "execute_result"
    }
   ],
   "source": [
    "from sklearn.model_selection import train_test_split\n",
    "X = df.input\n",
    "y = df.Category\n",
    "X_train, X_test, y_train, y_test = train_test_split(X, y, test_size=0.3, random_state = 39) #splitting into testing set and training set\n",
    "X_train.shape,X_test.shape,y_train.shape,y_test.shape #counts for each array"
   ]
  },
  {
   "cell_type": "markdown",
   "metadata": {
    "id": "Tgq12PKpt59r"
   },
   "source": [
    "Now we create a pipline have count vectorizer, tf idf transformer and then we go for logistic regression. Then we fit the data on to the pipeline and then lastly we compare the prediction with actual values using accuracy score and confusion matrix."
   ]
  },
  {
   "cell_type": "code",
   "execution_count": 35,
   "metadata": {
    "colab": {
     "base_uri": "https://localhost:8080/",
     "height": 313
    },
    "id": "oKPpWoApsXj8",
    "outputId": "de78360f-e890-4d1d-a358-018d189ff3c1"
   },
   "outputs": [
    {
     "name": "stdout",
     "output_type": "stream",
     "text": [
      "Confusion Matrix for Logistic Regression:\n",
      "The accuracy of the model is: 0.9009230769230769\n"
     ]
    },
    {
     "data": {
      "image/png": "[encoded data removed]",
      "text/plain": [
       "<Figure size 432x288 with 2 Axes>"
      ]
     },
     "metadata": {
      "needs_background": "light",
      "tags": []
     },
     "output_type": "display_data"
    }
   ],
   "source": [
    "lr = Pipeline([('vect', CountVectorizer()), #pipeline for logistic regression\n",
    "               ('tfidf', TfidfTransformer()),\n",
    "               ('clf', LogisticRegression()),\n",
    "              ])\n",
    "\n",
    "lr.fit(X_train,y_train) #fitting\n",
    "y_pred1 = lr.predict(X_test) #predicting\n",
    "\n",
    "print(\"Confusion Matrix for Logistic Regression:\")\n",
    "from sklearn.metrics import plot_confusion_matrix\n",
    "plot_confusion_matrix(lr,y_pred1,y_test) #confusion matrix\n",
    "print('The accuracy of the model is:',accuracy_score(y_pred1,y_test)) "
   ]
  },
  {
   "cell_type": "markdown",
   "metadata": {
    "id": "4kAvmuiyua8x"
   },
   "source": [
    "Next we use Naive Bayes Multinomial Classification with a similar approach of the pipeline. We do the same thing again. We fit the data and then check for accuracy using confusion matrix and accuracy score."
   ]
  },
  {
   "cell_type": "code",
   "execution_count": 36,
   "metadata": {
    "colab": {
     "base_uri": "https://localhost:8080/",
     "height": 313
    },
    "id": "LQf8b7ByOA9H",
    "outputId": "a408b80b-188c-48da-dbec-5dcbe9b553eb"
   },
   "outputs": [
    {
     "name": "stdout",
     "output_type": "stream",
     "text": [
      "Confusion Matrix for Logistic Regression:\n",
      "The accuracy of the model is: 0.8941538461538462\n"
     ]
    },
    {
     "data": {
      "image/png": "[encoded data removed]",
      "text/plain": [
       "<Figure size 432x288 with 2 Axes>"
      ]
     },
     "metadata": {
      "needs_background": "light",
      "tags": []
     },
     "output_type": "display_data"
    }
   ],
   "source": [
    "from sklearn.naive_bayes import MultinomialNB\n",
    "\n",
    "\n",
    "naivebayes = Pipeline([('vect', CountVectorizer()), #naive bayes pipeline\n",
    "               ('tfidf', TfidfTransformer()),\n",
    "               ('clf', MultinomialNB()),\n",
    "              ])\n",
    "naivebayes.fit(X_train, y_train) #pipeline\n",
    "\n",
    "y_pred = naivebayes.predict(X_test) #prediction\n",
    "\n",
    "print(\"Confusion Matrix for Logistic Regression:\")\n",
    "from sklearn.metrics import plot_confusion_matrix\n",
    "plot_confusion_matrix(naivebayes,y_pred,y_test) #confusion matrix\n",
    "print('The accuracy of the model is:',accuracy_score(y_pred,y_test)) "
   ]
  },
  {
   "cell_type": "markdown",
   "metadata": {
    "id": "T1WOTv4Pvq9j"
   },
   "source": [
    "Lastly we also use an xgboost classifier through the same pipelines approach."
   ]
  },
  {
   "cell_type": "code",
   "execution_count": 37,
   "metadata": {
    "colab": {
     "base_uri": "https://localhost:8080/",
     "height": 299
    },
    "id": "RxHSafdQObel",
    "outputId": "ea45c547-3518-40fe-e40e-d4a45ea025fe"
   },
   "outputs": [
    {
     "name": "stdout",
     "output_type": "stream",
     "text": [
      "Confusion Matrix for Logistic Regression:\n",
      "The accuracy of the model is: 0.8006153846153846\n"
     ]
    },
    {
     "data": {
      "image/png": "[encoded data removed]",
      "text/plain": [
       "<Figure size 432x288 with 2 Axes>"
      ]
     },
     "metadata": {
      "needs_background": "light",
      "tags": []
     },
     "output_type": "display_data"
    }
   ],
   "source": [
    "from xgboost import XGBClassifier\n",
    "\n",
    "xgboost = Pipeline([('vect', CountVectorizer()), #pipeline for xgboost classifier\n",
    "               ('tfidf', TfidfTransformer()),\n",
    "               ('clf', XGBClassifier()),\n",
    "              ])\n",
    "xgboost.fit(X_train, y_train) #fitting\n",
    "\n",
    "y_pred = xgboost.predict(X_test) #prediction\n",
    "print(\"Confusion Matrix for Logistic Regression:\")\n",
    "sns.heatmap(confusion_matrix(y_pred,y_test), annot=True, xticklabels=['Books','Music','UK-News'],yticklabels=['Books','Music','UK-News']) #confusion matrix\n",
    "print('The accuracy of the model is:',accuracy_score(y_pred,y_test)) "
   ]
  },
  {
   "cell_type": "markdown",
   "metadata": {
    "id": "pPc4YwkGvz1Z"
   },
   "source": [
    "Now we need to evaluate our model accuracy for the models that we trained.ALthough we did verify it using evaluation matrices and accuracy score, a better approach is to check several folds of the data. This can either be done using scores function or we could manually write a function of our own. We will do the later. We use the same approach as evaluation of Binary Classifiers. We train 100 instances of the same data and then take an average of the accuracy over these 100 instances. We write a function that evaluates it for us and then we run the function for some of the pipelines."
   ]
  },
  {
   "cell_type": "code",
   "execution_count": 62,
   "metadata": {
    "id": "hr0--mNkwGsx"
   },
   "outputs": [],
   "source": [
    "def evaluation_multi(in1): #function for cross validation of multi class classification\n",
    "  from sklearn.model_selection import train_test_split\n",
    "  from sklearn.naive_bayes import MultinomialNB\n",
    "  from xgboost import XGBClassifier\n",
    "  import sys\n",
    "  acc_score=[] #matrix for storing accuracy score of each instance\n",
    "  if in1 == 1: #checking which classifior to use based on input\n",
    "    pipe = Pipeline([('vect', CountVectorizer()), #pipeline for logistic regression\n",
    "               ('tfidf', TfidfTransformer()),\n",
    "               ('clf', LogisticRegression()),\n",
    "              ])\n",
    "  elif in1 == 2:\n",
    "    pipe = Pipeline([('vect', CountVectorizer()), #pipleine for Naive Bayes classifier\n",
    "               ('tfidf', TfidfTransformer()),\n",
    "               ('clf', MultinomialNB()),\n",
    "              ])\n",
    "  elif in1 == 3:\n",
    "    pipe = Pipeline([('vect', CountVectorizer()), #pipeline for XGBoost classifier\n",
    "               ('tfidf', TfidfTransformer()),\n",
    "               ('clf', XGBClassifier()),\n",
    "              ])\n",
    "  for i in range(100): #running 100 instance\n",
    "    X = df.input\n",
    "    y = df.Category\n",
    "    X_train, X_test, y_train, y_test = train_test_split(X, y, test_size=0.25)\n",
    "    pipe.fit(X_train, y_train)\n",
    "    y_pred = pipe.predict(X_test)\n",
    "    acc_score.append(accuracy_score(y_pred,y_test))\n",
    "    sys.stdout.write(\"\\rPercentage done: %i \" % (i+1))\n",
    "    sys.stdout.flush()\n",
    "  return(sum(acc_score)/100)\n",
    "\n",
    "\n"
   ]
  },
  {
   "cell_type": "markdown",
   "metadata": {
    "id": "0y0KNNEFRWT1"
   },
   "source": [
    "Now we run the function and observe average accuracies for multiple classes using Naive Bayes Classifier. The input can be changed to evaluate other classifiers as well. "
   ]
  },
  {
   "cell_type": "code",
   "execution_count": 63,
   "metadata": {
    "colab": {
     "base_uri": "https://localhost:8080/"
    },
    "id": "MefgYQxByoML",
    "outputId": "07ce4cbd-6179-432c-e153-e93135947e83"
   },
   "outputs": [
    {
     "name": "stdout",
     "output_type": "stream",
     "text": [
      "Percentage done: 100 The average accuracy over 100 instances is: 0.9029468242245196\n"
     ]
    }
   ],
   "source": [
    "h=evaluation_multi(2)\n",
    "print('The average accuracy over 100 instances is:',h)"
   ]
  },
  {
   "cell_type": "markdown",
   "metadata": {
    "id": "FcO-PYvDwFmy"
   },
   "source": [
    "### Evaluation Results and Conclusion"
   ]
  },
  {
   "cell_type": "markdown",
   "metadata": {
    "id": "jiyYvGm5w36I"
   },
   "source": [
    "We carried out Multi-Class text classification using several classifiers like Logistic Regression, Naive Bayes Classifier and Xg Boost classifier. For one random set they produced an accuracy of 90%,89% and 80%. But, the training time for Logistic Regression was almost twice as that of Naive Bayes and the training time of XgBoost was almost 10 times which made Naive Bayes our choice for best classifier. Next when we cross validated it over 100 instances the average accuracy was reported to be 88%, this figure may change slightly with each time the code is run. None of the models showed any major overfitting issues and had fairly good specificity and sensitivity although XgBoost did show some concerns by classifying some of the music dataset as UK News."
   ]
  },
  {
   "cell_type": "markdown",
   "metadata": {
    "id": "2gKJ2uoF52CD"
   },
   "source": [
    "# Conclusion"
   ]
  },
  {
   "cell_type": "markdown",
   "metadata": {
    "id": "RiktI_Ye57hE"
   },
   "source": [
    "In this file we have carried out Binary Classification and Multi Class classification on the given webpage as per the assignment brief. Overall accuracy was higher in Binary classificaiton as compared to Multi Class classification. This can be attributed to more number of classes and much bigger dataset. Furthermore, we didnt obeserve any overfitting which was confirmed by confusion matrices for various cases. All models have reported high accuracy in general which could be attributed to very large dataset and good preprocessing. The CSV file is available in the zip file uploaded. The entire coad takes approximately 17 minutes and 31 seconds to run. 80% of this is the traning time for xgboost classifier for multi class classification"
   ]
  }
 ],
 "metadata": {
  "colab": {
   "collapsed_sections": [],
   "name": "Assignment 2 Kamran Equbal final v1.ipynb",
   "provenance": [],
   "toc_visible": true
  },
  "kernelspec": {
   "display_name": "Python 3 (ipykernel)",
   "language": "python",
   "name": "python3"
  },
  "language_info": {
   "codemirror_mode": {
    "name": "ipython",
    "version": 3
   },
   "file_extension": ".py",
   "mimetype": "text/x-python",
   "name": "python",
   "nbconvert_exporter": "python",
   "pygments_lexer": "ipython3",
   "version": "3.9.7"
  }
 },
 "nbformat": 4,
 "nbformat_minor": 1
}
